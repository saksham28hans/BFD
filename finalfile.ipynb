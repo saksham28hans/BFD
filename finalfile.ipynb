{
  "metadata": {
    "kernelspec": {
      "name": "python",
      "display_name": "Python (Pyodide)",
      "language": "python"
    },
    "language_info": {
      "codemirror_mode": {
        "name": "python",
        "version": 3
      },
      "file_extension": ".py",
      "mimetype": "text/x-python",
      "name": "python",
      "nbconvert_exporter": "python",
      "pygments_lexer": "ipython3",
      "version": "3.8"
    }
  },
  "nbformat_minor": 4,
  "nbformat": 4,
  "cells": [
    {
      "cell_type": "code",
      "source": "import pandas as pd\nimport numpy as np\nfrom sklearn.model_selection import train_test_split\nfrom sklearn.linear_model import LogisticRegression\nfrom sklearn.metrics import accuracy_score\nfrom sklearn.svm import SVC\nfrom sklearn.tree import DecisionTreeClassifier\nfrom sklearn.neighbors import KNeighborsClassifier\nfrom sklearn.naive_bayes import GaussianNB\nimport matplotlib.pyplot as plt",
      "metadata": {
        "trusted": true
      },
      "outputs": [],
      "execution_count": 105
    },
    {
      "cell_type": "code",
      "source": "",
      "metadata": {
        "trusted": true
      },
      "outputs": [],
      "execution_count": null
    },
    {
      "cell_type": "code",
      "source": "df=pd.read_csv(\"hope.csv\")",
      "metadata": {
        "trusted": true
      },
      "outputs": [],
      "execution_count": 106
    },
    {
      "cell_type": "code",
      "source": "df['Date'] = pd.to_datetime(df['Date'])",
      "metadata": {
        "trusted": true
      },
      "outputs": [],
      "execution_count": 107
    },
    {
      "cell_type": "code",
      "source": "df.head() ",
      "metadata": {
        "trusted": true
      },
      "outputs": [
        {
          "execution_count": 108,
          "output_type": "execute_result",
          "data": {
            "text/plain": "   Unnamed: 0     customer  age gender    merchant  amount  fraud        City  \\\n0           0   C546697817    5      F  M348934600   25.31      0       Delhi   \n1           1   C465897830    4      M  M480139044  263.24      1       Delhi   \n2           2  C2125787399    4      F  M349281107   59.77      0      Jaipur   \n3           3  C2118328869    2      F  M933210764  278.73      1     Lucknow   \n4           4  C1837200499    4      M  M980657600  958.53      1  Pandharpur   \n\n       type  Card Type Exp Type  oldbalanceOrg  oldbalanceDest       Date  \\\n0  CASH_OUT  Signature     Food        47169.0       205879.66 2011-11-05   \n1   PAYMENT  Signature   Travel        20143.0      2469789.14 2011-10-21   \n2  CASH_OUT  Signature   Travel        33819.0       414358.05 2013-02-25   \n3  CASH_OUT  Signature     Food        14309.0       101846.02 2014-03-12   \n4  CASH_OUT  Signature     Food        54794.0        35507.81 2012-12-16   \n\n   newbalanceOrg  newbalanceDest  \n0       47143.69       205904.97  \n1       19879.76      2470052.38  \n2       33759.23       414417.82  \n3       14030.27       102124.75  \n4       53835.47        36466.34  ",
            "text/html": "<div>\n<style scoped>\n    .dataframe tbody tr th:only-of-type {\n        vertical-align: middle;\n    }\n\n    .dataframe tbody tr th {\n        vertical-align: top;\n    }\n\n    .dataframe thead th {\n        text-align: right;\n    }\n</style>\n<table border=\"1\" class=\"dataframe\">\n  <thead>\n    <tr style=\"text-align: right;\">\n      <th></th>\n      <th>Unnamed: 0</th>\n      <th>customer</th>\n      <th>age</th>\n      <th>gender</th>\n      <th>merchant</th>\n      <th>amount</th>\n      <th>fraud</th>\n      <th>City</th>\n      <th>type</th>\n      <th>Card Type</th>\n      <th>Exp Type</th>\n      <th>oldbalanceOrg</th>\n      <th>oldbalanceDest</th>\n      <th>Date</th>\n      <th>newbalanceOrg</th>\n      <th>newbalanceDest</th>\n    </tr>\n  </thead>\n  <tbody>\n    <tr>\n      <th>0</th>\n      <td>0</td>\n      <td>C546697817</td>\n      <td>5</td>\n      <td>F</td>\n      <td>M348934600</td>\n      <td>25.31</td>\n      <td>0</td>\n      <td>Delhi</td>\n      <td>CASH_OUT</td>\n      <td>Signature</td>\n      <td>Food</td>\n      <td>47169.0</td>\n      <td>205879.66</td>\n      <td>2011-11-05</td>\n      <td>47143.69</td>\n      <td>205904.97</td>\n    </tr>\n    <tr>\n      <th>1</th>\n      <td>1</td>\n      <td>C465897830</td>\n      <td>4</td>\n      <td>M</td>\n      <td>M480139044</td>\n      <td>263.24</td>\n      <td>1</td>\n      <td>Delhi</td>\n      <td>PAYMENT</td>\n      <td>Signature</td>\n      <td>Travel</td>\n      <td>20143.0</td>\n      <td>2469789.14</td>\n      <td>2011-10-21</td>\n      <td>19879.76</td>\n      <td>2470052.38</td>\n    </tr>\n    <tr>\n      <th>2</th>\n      <td>2</td>\n      <td>C2125787399</td>\n      <td>4</td>\n      <td>F</td>\n      <td>M349281107</td>\n      <td>59.77</td>\n      <td>0</td>\n      <td>Jaipur</td>\n      <td>CASH_OUT</td>\n      <td>Signature</td>\n      <td>Travel</td>\n      <td>33819.0</td>\n      <td>414358.05</td>\n      <td>2013-02-25</td>\n      <td>33759.23</td>\n      <td>414417.82</td>\n    </tr>\n    <tr>\n      <th>3</th>\n      <td>3</td>\n      <td>C2118328869</td>\n      <td>2</td>\n      <td>F</td>\n      <td>M933210764</td>\n      <td>278.73</td>\n      <td>1</td>\n      <td>Lucknow</td>\n      <td>CASH_OUT</td>\n      <td>Signature</td>\n      <td>Food</td>\n      <td>14309.0</td>\n      <td>101846.02</td>\n      <td>2014-03-12</td>\n      <td>14030.27</td>\n      <td>102124.75</td>\n    </tr>\n    <tr>\n      <th>4</th>\n      <td>4</td>\n      <td>C1837200499</td>\n      <td>4</td>\n      <td>M</td>\n      <td>M980657600</td>\n      <td>958.53</td>\n      <td>1</td>\n      <td>Pandharpur</td>\n      <td>CASH_OUT</td>\n      <td>Signature</td>\n      <td>Food</td>\n      <td>54794.0</td>\n      <td>35507.81</td>\n      <td>2012-12-16</td>\n      <td>53835.47</td>\n      <td>36466.34</td>\n    </tr>\n  </tbody>\n</table>\n</div>"
          },
          "metadata": {}
        }
      ],
      "execution_count": 108
    },
    {
      "cell_type": "code",
      "source": "df.drop(columns=[df.columns[0]], inplace=True)",
      "metadata": {
        "trusted": true
      },
      "outputs": [],
      "execution_count": 109
    },
    {
      "cell_type": "code",
      "source": "df.tail()",
      "metadata": {
        "trusted": true
      },
      "outputs": [
        {
          "execution_count": 110,
          "output_type": "execute_result",
          "data": {
            "text/plain": "          customer  age gender    merchant  amount  fraud            City  \\\n56830   C903741897    2      F   M50039827   91.89      0            Pune   \n56831   C574289698    3      M  M348934600   16.96      0       Bengaluru   \n56832  C1271484467    6      F  M855959430   23.27      0       Ahmedabad   \n56833   C647931416    3      F    M3697346  364.01      1  Greater Mumbai   \n56834    C96868586    3      M  M348934600    2.43      0       Ahmedabad   \n\n           type Card Type Exp Type  oldbalanceOrg  oldbalanceDest       Date  \\\n56830  CASH_OUT  Platinum  Grocery        1291.00      3654812.80 2011-12-14   \n56831   PAYMENT  Platinum    Bills        1421.00      2475802.01 2013-04-24   \n56832   CASH_IN  Platinum     Food     2035398.76      1288956.82 2014-01-12   \n56833  TRANSFER  Platinum    Bills       45587.00       298470.75 2014-06-03   \n56834  CASH_OUT  Platinum  Grocery       46622.00       786347.87 2013-08-09   \n\n       newbalanceOrg  newbalanceDest  \n56830        1199.11      3654904.69  \n56831        1404.04      2475818.97  \n56832     2035375.49      1288980.09  \n56833       45222.99       298834.76  \n56834       46619.57       786350.30  ",
            "text/html": "<div>\n<style scoped>\n    .dataframe tbody tr th:only-of-type {\n        vertical-align: middle;\n    }\n\n    .dataframe tbody tr th {\n        vertical-align: top;\n    }\n\n    .dataframe thead th {\n        text-align: right;\n    }\n</style>\n<table border=\"1\" class=\"dataframe\">\n  <thead>\n    <tr style=\"text-align: right;\">\n      <th></th>\n      <th>customer</th>\n      <th>age</th>\n      <th>gender</th>\n      <th>merchant</th>\n      <th>amount</th>\n      <th>fraud</th>\n      <th>City</th>\n      <th>type</th>\n      <th>Card Type</th>\n      <th>Exp Type</th>\n      <th>oldbalanceOrg</th>\n      <th>oldbalanceDest</th>\n      <th>Date</th>\n      <th>newbalanceOrg</th>\n      <th>newbalanceDest</th>\n    </tr>\n  </thead>\n  <tbody>\n    <tr>\n      <th>56830</th>\n      <td>C903741897</td>\n      <td>2</td>\n      <td>F</td>\n      <td>M50039827</td>\n      <td>91.89</td>\n      <td>0</td>\n      <td>Pune</td>\n      <td>CASH_OUT</td>\n      <td>Platinum</td>\n      <td>Grocery</td>\n      <td>1291.00</td>\n      <td>3654812.80</td>\n      <td>2011-12-14</td>\n      <td>1199.11</td>\n      <td>3654904.69</td>\n    </tr>\n    <tr>\n      <th>56831</th>\n      <td>C574289698</td>\n      <td>3</td>\n      <td>M</td>\n      <td>M348934600</td>\n      <td>16.96</td>\n      <td>0</td>\n      <td>Bengaluru</td>\n      <td>PAYMENT</td>\n      <td>Platinum</td>\n      <td>Bills</td>\n      <td>1421.00</td>\n      <td>2475802.01</td>\n      <td>2013-04-24</td>\n      <td>1404.04</td>\n      <td>2475818.97</td>\n    </tr>\n    <tr>\n      <th>56832</th>\n      <td>C1271484467</td>\n      <td>6</td>\n      <td>F</td>\n      <td>M855959430</td>\n      <td>23.27</td>\n      <td>0</td>\n      <td>Ahmedabad</td>\n      <td>CASH_IN</td>\n      <td>Platinum</td>\n      <td>Food</td>\n      <td>2035398.76</td>\n      <td>1288956.82</td>\n      <td>2014-01-12</td>\n      <td>2035375.49</td>\n      <td>1288980.09</td>\n    </tr>\n    <tr>\n      <th>56833</th>\n      <td>C647931416</td>\n      <td>3</td>\n      <td>F</td>\n      <td>M3697346</td>\n      <td>364.01</td>\n      <td>1</td>\n      <td>Greater Mumbai</td>\n      <td>TRANSFER</td>\n      <td>Platinum</td>\n      <td>Bills</td>\n      <td>45587.00</td>\n      <td>298470.75</td>\n      <td>2014-06-03</td>\n      <td>45222.99</td>\n      <td>298834.76</td>\n    </tr>\n    <tr>\n      <th>56834</th>\n      <td>C96868586</td>\n      <td>3</td>\n      <td>M</td>\n      <td>M348934600</td>\n      <td>2.43</td>\n      <td>0</td>\n      <td>Ahmedabad</td>\n      <td>CASH_OUT</td>\n      <td>Platinum</td>\n      <td>Grocery</td>\n      <td>46622.00</td>\n      <td>786347.87</td>\n      <td>2013-08-09</td>\n      <td>46619.57</td>\n      <td>786350.30</td>\n    </tr>\n  </tbody>\n</table>\n</div>"
          },
          "metadata": {}
        }
      ],
      "execution_count": 110
    },
    {
      "cell_type": "code",
      "source": "df.info()",
      "metadata": {
        "trusted": true
      },
      "outputs": [
        {
          "name": "stdout",
          "text": "<class 'pandas.core.frame.DataFrame'>\nRangeIndex: 56835 entries, 0 to 56834\nData columns (total 15 columns):\n #   Column          Non-Null Count  Dtype         \n---  ------          --------------  -----         \n 0   customer        56835 non-null  object        \n 1   age             56835 non-null  int64         \n 2   gender          56835 non-null  object        \n 3   merchant        56835 non-null  object        \n 4   amount          56835 non-null  float64       \n 5   fraud           56835 non-null  int64         \n 6   City            56835 non-null  object        \n 7   type            56835 non-null  object        \n 8   Card Type       56835 non-null  object        \n 9   Exp Type        56835 non-null  object        \n 10  oldbalanceOrg   56835 non-null  float64       \n 11  oldbalanceDest  56835 non-null  float64       \n 12  Date            56835 non-null  datetime64[ns]\n 13  newbalanceOrg   56835 non-null  float64       \n 14  newbalanceDest  56835 non-null  float64       \ndtypes: datetime64[ns](1), float64(5), int64(2), object(7)\nmemory usage: 5.0+ MB\n",
          "output_type": "stream"
        }
      ],
      "execution_count": 111
    },
    {
      "cell_type": "code",
      "source": "df.isnull().sum()",
      "metadata": {
        "trusted": true
      },
      "outputs": [
        {
          "execution_count": 112,
          "output_type": "execute_result",
          "data": {
            "text/plain": "customer          0\nage               0\ngender            0\nmerchant          0\namount            0\nfraud             0\nCity              0\ntype              0\nCard Type         0\nExp Type          0\noldbalanceOrg     0\noldbalanceDest    0\nDate              0\nnewbalanceOrg     0\nnewbalanceDest    0\ndtype: int64"
          },
          "metadata": {}
        }
      ],
      "execution_count": 112
    },
    {
      "cell_type": "code",
      "source": "df[\"fraud\"].value_counts()",
      "metadata": {
        "trusted": true
      },
      "outputs": [
        {
          "execution_count": 113,
          "output_type": "execute_result",
          "data": {
            "text/plain": "0    50007\n1     6828\nName: fraud, dtype: int64"
          },
          "metadata": {}
        }
      ],
      "execution_count": 113
    },
    {
      "cell_type": "code",
      "source": "df.info()",
      "metadata": {
        "trusted": true
      },
      "outputs": [
        {
          "name": "stdout",
          "text": "<class 'pandas.core.frame.DataFrame'>\nRangeIndex: 56835 entries, 0 to 56834\nData columns (total 15 columns):\n #   Column          Non-Null Count  Dtype         \n---  ------          --------------  -----         \n 0   customer        56835 non-null  object        \n 1   age             56835 non-null  int64         \n 2   gender          56835 non-null  object        \n 3   merchant        56835 non-null  object        \n 4   amount          56835 non-null  float64       \n 5   fraud           56835 non-null  int64         \n 6   City            56835 non-null  object        \n 7   type            56835 non-null  object        \n 8   Card Type       56835 non-null  object        \n 9   Exp Type        56835 non-null  object        \n 10  oldbalanceOrg   56835 non-null  float64       \n 11  oldbalanceDest  56835 non-null  float64       \n 12  Date            56835 non-null  datetime64[ns]\n 13  newbalanceOrg   56835 non-null  float64       \n 14  newbalanceDest  56835 non-null  float64       \ndtypes: datetime64[ns](1), float64(5), int64(2), object(7)\nmemory usage: 5.0+ MB\n",
          "output_type": "stream"
        }
      ],
      "execution_count": 114
    },
    {
      "cell_type": "code",
      "source": "df.head()",
      "metadata": {
        "trusted": true
      },
      "outputs": [
        {
          "execution_count": 115,
          "output_type": "execute_result",
          "data": {
            "text/plain": "      customer  age gender    merchant  amount  fraud        City      type  \\\n0   C546697817    5      F  M348934600   25.31      0       Delhi  CASH_OUT   \n1   C465897830    4      M  M480139044  263.24      1       Delhi   PAYMENT   \n2  C2125787399    4      F  M349281107   59.77      0      Jaipur  CASH_OUT   \n3  C2118328869    2      F  M933210764  278.73      1     Lucknow  CASH_OUT   \n4  C1837200499    4      M  M980657600  958.53      1  Pandharpur  CASH_OUT   \n\n   Card Type Exp Type  oldbalanceOrg  oldbalanceDest       Date  \\\n0  Signature     Food        47169.0       205879.66 2011-11-05   \n1  Signature   Travel        20143.0      2469789.14 2011-10-21   \n2  Signature   Travel        33819.0       414358.05 2013-02-25   \n3  Signature     Food        14309.0       101846.02 2014-03-12   \n4  Signature     Food        54794.0        35507.81 2012-12-16   \n\n   newbalanceOrg  newbalanceDest  \n0       47143.69       205904.97  \n1       19879.76      2470052.38  \n2       33759.23       414417.82  \n3       14030.27       102124.75  \n4       53835.47        36466.34  ",
            "text/html": "<div>\n<style scoped>\n    .dataframe tbody tr th:only-of-type {\n        vertical-align: middle;\n    }\n\n    .dataframe tbody tr th {\n        vertical-align: top;\n    }\n\n    .dataframe thead th {\n        text-align: right;\n    }\n</style>\n<table border=\"1\" class=\"dataframe\">\n  <thead>\n    <tr style=\"text-align: right;\">\n      <th></th>\n      <th>customer</th>\n      <th>age</th>\n      <th>gender</th>\n      <th>merchant</th>\n      <th>amount</th>\n      <th>fraud</th>\n      <th>City</th>\n      <th>type</th>\n      <th>Card Type</th>\n      <th>Exp Type</th>\n      <th>oldbalanceOrg</th>\n      <th>oldbalanceDest</th>\n      <th>Date</th>\n      <th>newbalanceOrg</th>\n      <th>newbalanceDest</th>\n    </tr>\n  </thead>\n  <tbody>\n    <tr>\n      <th>0</th>\n      <td>C546697817</td>\n      <td>5</td>\n      <td>F</td>\n      <td>M348934600</td>\n      <td>25.31</td>\n      <td>0</td>\n      <td>Delhi</td>\n      <td>CASH_OUT</td>\n      <td>Signature</td>\n      <td>Food</td>\n      <td>47169.0</td>\n      <td>205879.66</td>\n      <td>2011-11-05</td>\n      <td>47143.69</td>\n      <td>205904.97</td>\n    </tr>\n    <tr>\n      <th>1</th>\n      <td>C465897830</td>\n      <td>4</td>\n      <td>M</td>\n      <td>M480139044</td>\n      <td>263.24</td>\n      <td>1</td>\n      <td>Delhi</td>\n      <td>PAYMENT</td>\n      <td>Signature</td>\n      <td>Travel</td>\n      <td>20143.0</td>\n      <td>2469789.14</td>\n      <td>2011-10-21</td>\n      <td>19879.76</td>\n      <td>2470052.38</td>\n    </tr>\n    <tr>\n      <th>2</th>\n      <td>C2125787399</td>\n      <td>4</td>\n      <td>F</td>\n      <td>M349281107</td>\n      <td>59.77</td>\n      <td>0</td>\n      <td>Jaipur</td>\n      <td>CASH_OUT</td>\n      <td>Signature</td>\n      <td>Travel</td>\n      <td>33819.0</td>\n      <td>414358.05</td>\n      <td>2013-02-25</td>\n      <td>33759.23</td>\n      <td>414417.82</td>\n    </tr>\n    <tr>\n      <th>3</th>\n      <td>C2118328869</td>\n      <td>2</td>\n      <td>F</td>\n      <td>M933210764</td>\n      <td>278.73</td>\n      <td>1</td>\n      <td>Lucknow</td>\n      <td>CASH_OUT</td>\n      <td>Signature</td>\n      <td>Food</td>\n      <td>14309.0</td>\n      <td>101846.02</td>\n      <td>2014-03-12</td>\n      <td>14030.27</td>\n      <td>102124.75</td>\n    </tr>\n    <tr>\n      <th>4</th>\n      <td>C1837200499</td>\n      <td>4</td>\n      <td>M</td>\n      <td>M980657600</td>\n      <td>958.53</td>\n      <td>1</td>\n      <td>Pandharpur</td>\n      <td>CASH_OUT</td>\n      <td>Signature</td>\n      <td>Food</td>\n      <td>54794.0</td>\n      <td>35507.81</td>\n      <td>2012-12-16</td>\n      <td>53835.47</td>\n      <td>36466.34</td>\n    </tr>\n  </tbody>\n</table>\n</div>"
          },
          "metadata": {}
        }
      ],
      "execution_count": 115
    },
    {
      "cell_type": "code",
      "source": "df.head()",
      "metadata": {
        "trusted": true
      },
      "outputs": [
        {
          "execution_count": 116,
          "output_type": "execute_result",
          "data": {
            "text/plain": "      customer  age gender    merchant  amount  fraud        City      type  \\\n0   C546697817    5      F  M348934600   25.31      0       Delhi  CASH_OUT   \n1   C465897830    4      M  M480139044  263.24      1       Delhi   PAYMENT   \n2  C2125787399    4      F  M349281107   59.77      0      Jaipur  CASH_OUT   \n3  C2118328869    2      F  M933210764  278.73      1     Lucknow  CASH_OUT   \n4  C1837200499    4      M  M980657600  958.53      1  Pandharpur  CASH_OUT   \n\n   Card Type Exp Type  oldbalanceOrg  oldbalanceDest       Date  \\\n0  Signature     Food        47169.0       205879.66 2011-11-05   \n1  Signature   Travel        20143.0      2469789.14 2011-10-21   \n2  Signature   Travel        33819.0       414358.05 2013-02-25   \n3  Signature     Food        14309.0       101846.02 2014-03-12   \n4  Signature     Food        54794.0        35507.81 2012-12-16   \n\n   newbalanceOrg  newbalanceDest  \n0       47143.69       205904.97  \n1       19879.76      2470052.38  \n2       33759.23       414417.82  \n3       14030.27       102124.75  \n4       53835.47        36466.34  ",
            "text/html": "<div>\n<style scoped>\n    .dataframe tbody tr th:only-of-type {\n        vertical-align: middle;\n    }\n\n    .dataframe tbody tr th {\n        vertical-align: top;\n    }\n\n    .dataframe thead th {\n        text-align: right;\n    }\n</style>\n<table border=\"1\" class=\"dataframe\">\n  <thead>\n    <tr style=\"text-align: right;\">\n      <th></th>\n      <th>customer</th>\n      <th>age</th>\n      <th>gender</th>\n      <th>merchant</th>\n      <th>amount</th>\n      <th>fraud</th>\n      <th>City</th>\n      <th>type</th>\n      <th>Card Type</th>\n      <th>Exp Type</th>\n      <th>oldbalanceOrg</th>\n      <th>oldbalanceDest</th>\n      <th>Date</th>\n      <th>newbalanceOrg</th>\n      <th>newbalanceDest</th>\n    </tr>\n  </thead>\n  <tbody>\n    <tr>\n      <th>0</th>\n      <td>C546697817</td>\n      <td>5</td>\n      <td>F</td>\n      <td>M348934600</td>\n      <td>25.31</td>\n      <td>0</td>\n      <td>Delhi</td>\n      <td>CASH_OUT</td>\n      <td>Signature</td>\n      <td>Food</td>\n      <td>47169.0</td>\n      <td>205879.66</td>\n      <td>2011-11-05</td>\n      <td>47143.69</td>\n      <td>205904.97</td>\n    </tr>\n    <tr>\n      <th>1</th>\n      <td>C465897830</td>\n      <td>4</td>\n      <td>M</td>\n      <td>M480139044</td>\n      <td>263.24</td>\n      <td>1</td>\n      <td>Delhi</td>\n      <td>PAYMENT</td>\n      <td>Signature</td>\n      <td>Travel</td>\n      <td>20143.0</td>\n      <td>2469789.14</td>\n      <td>2011-10-21</td>\n      <td>19879.76</td>\n      <td>2470052.38</td>\n    </tr>\n    <tr>\n      <th>2</th>\n      <td>C2125787399</td>\n      <td>4</td>\n      <td>F</td>\n      <td>M349281107</td>\n      <td>59.77</td>\n      <td>0</td>\n      <td>Jaipur</td>\n      <td>CASH_OUT</td>\n      <td>Signature</td>\n      <td>Travel</td>\n      <td>33819.0</td>\n      <td>414358.05</td>\n      <td>2013-02-25</td>\n      <td>33759.23</td>\n      <td>414417.82</td>\n    </tr>\n    <tr>\n      <th>3</th>\n      <td>C2118328869</td>\n      <td>2</td>\n      <td>F</td>\n      <td>M933210764</td>\n      <td>278.73</td>\n      <td>1</td>\n      <td>Lucknow</td>\n      <td>CASH_OUT</td>\n      <td>Signature</td>\n      <td>Food</td>\n      <td>14309.0</td>\n      <td>101846.02</td>\n      <td>2014-03-12</td>\n      <td>14030.27</td>\n      <td>102124.75</td>\n    </tr>\n    <tr>\n      <th>4</th>\n      <td>C1837200499</td>\n      <td>4</td>\n      <td>M</td>\n      <td>M980657600</td>\n      <td>958.53</td>\n      <td>1</td>\n      <td>Pandharpur</td>\n      <td>CASH_OUT</td>\n      <td>Signature</td>\n      <td>Food</td>\n      <td>54794.0</td>\n      <td>35507.81</td>\n      <td>2012-12-16</td>\n      <td>53835.47</td>\n      <td>36466.34</td>\n    </tr>\n  </tbody>\n</table>\n</div>"
          },
          "metadata": {}
        }
      ],
      "execution_count": 116
    },
    {
      "cell_type": "code",
      "source": "df['gender'] = df['gender'].map({'M': 1, 'F': 0})",
      "metadata": {
        "trusted": true
      },
      "outputs": [],
      "execution_count": 117
    },
    {
      "cell_type": "code",
      "source": "df.info()",
      "metadata": {
        "trusted": true
      },
      "outputs": [
        {
          "name": "stdout",
          "text": "<class 'pandas.core.frame.DataFrame'>\nRangeIndex: 56835 entries, 0 to 56834\nData columns (total 15 columns):\n #   Column          Non-Null Count  Dtype         \n---  ------          --------------  -----         \n 0   customer        56835 non-null  object        \n 1   age             56835 non-null  int64         \n 2   gender          56835 non-null  int64         \n 3   merchant        56835 non-null  object        \n 4   amount          56835 non-null  float64       \n 5   fraud           56835 non-null  int64         \n 6   City            56835 non-null  object        \n 7   type            56835 non-null  object        \n 8   Card Type       56835 non-null  object        \n 9   Exp Type        56835 non-null  object        \n 10  oldbalanceOrg   56835 non-null  float64       \n 11  oldbalanceDest  56835 non-null  float64       \n 12  Date            56835 non-null  datetime64[ns]\n 13  newbalanceOrg   56835 non-null  float64       \n 14  newbalanceDest  56835 non-null  float64       \ndtypes: datetime64[ns](1), float64(5), int64(3), object(6)\nmemory usage: 5.2+ MB\n",
          "output_type": "stream"
        }
      ],
      "execution_count": 118
    },
    {
      "cell_type": "code",
      "source": "df.corr()",
      "metadata": {
        "trusted": true
      },
      "outputs": [
        {
          "name": "stderr",
          "text": "<ipython-input-119-2f6f6606aa2c>:1: FutureWarning: The default value of numeric_only in DataFrame.corr is deprecated. In a future version, it will default to False. Select only valid columns or specify the value of numeric_only to silence this warning.\n  df.corr()\n",
          "output_type": "stream"
        },
        {
          "execution_count": 119,
          "output_type": "execute_result",
          "data": {
            "text/plain": "                     age    gender    amount     fraud  oldbalanceOrg  \\\nage             1.000000  0.037185 -0.001531 -0.000292       0.026422   \ngender          0.037185  1.000000 -0.039028 -0.058864      -0.006447   \namount         -0.001531 -0.039028  1.000000  0.467451       0.003490   \nfraud          -0.000292 -0.058864  0.467451  1.000000       0.011944   \noldbalanceOrg   0.026422 -0.006447  0.003490  0.011944       1.000000   \noldbalanceDest -0.026969  0.013748 -0.011019 -0.002724      -0.000533   \nnewbalanceOrg   0.026422 -0.006443  0.003393  0.011899       1.000000   \nnewbalanceDest -0.026970  0.013744 -0.010899 -0.002667      -0.000532   \n\n                oldbalanceDest  newbalanceOrg  newbalanceDest  \nage                  -0.026969       0.026422       -0.026970  \ngender                0.013748      -0.006443        0.013744  \namount               -0.011019       0.003393       -0.010899  \nfraud                -0.002724       0.011899       -0.002667  \noldbalanceOrg        -0.000533       1.000000       -0.000532  \noldbalanceDest        1.000000      -0.000532        1.000000  \nnewbalanceOrg        -0.000532       1.000000       -0.000531  \nnewbalanceDest        1.000000      -0.000531        1.000000  ",
            "text/html": "<div>\n<style scoped>\n    .dataframe tbody tr th:only-of-type {\n        vertical-align: middle;\n    }\n\n    .dataframe tbody tr th {\n        vertical-align: top;\n    }\n\n    .dataframe thead th {\n        text-align: right;\n    }\n</style>\n<table border=\"1\" class=\"dataframe\">\n  <thead>\n    <tr style=\"text-align: right;\">\n      <th></th>\n      <th>age</th>\n      <th>gender</th>\n      <th>amount</th>\n      <th>fraud</th>\n      <th>oldbalanceOrg</th>\n      <th>oldbalanceDest</th>\n      <th>newbalanceOrg</th>\n      <th>newbalanceDest</th>\n    </tr>\n  </thead>\n  <tbody>\n    <tr>\n      <th>age</th>\n      <td>1.000000</td>\n      <td>0.037185</td>\n      <td>-0.001531</td>\n      <td>-0.000292</td>\n      <td>0.026422</td>\n      <td>-0.026969</td>\n      <td>0.026422</td>\n      <td>-0.026970</td>\n    </tr>\n    <tr>\n      <th>gender</th>\n      <td>0.037185</td>\n      <td>1.000000</td>\n      <td>-0.039028</td>\n      <td>-0.058864</td>\n      <td>-0.006447</td>\n      <td>0.013748</td>\n      <td>-0.006443</td>\n      <td>0.013744</td>\n    </tr>\n    <tr>\n      <th>amount</th>\n      <td>-0.001531</td>\n      <td>-0.039028</td>\n      <td>1.000000</td>\n      <td>0.467451</td>\n      <td>0.003490</td>\n      <td>-0.011019</td>\n      <td>0.003393</td>\n      <td>-0.010899</td>\n    </tr>\n    <tr>\n      <th>fraud</th>\n      <td>-0.000292</td>\n      <td>-0.058864</td>\n      <td>0.467451</td>\n      <td>1.000000</td>\n      <td>0.011944</td>\n      <td>-0.002724</td>\n      <td>0.011899</td>\n      <td>-0.002667</td>\n    </tr>\n    <tr>\n      <th>oldbalanceOrg</th>\n      <td>0.026422</td>\n      <td>-0.006447</td>\n      <td>0.003490</td>\n      <td>0.011944</td>\n      <td>1.000000</td>\n      <td>-0.000533</td>\n      <td>1.000000</td>\n      <td>-0.000532</td>\n    </tr>\n    <tr>\n      <th>oldbalanceDest</th>\n      <td>-0.026969</td>\n      <td>0.013748</td>\n      <td>-0.011019</td>\n      <td>-0.002724</td>\n      <td>-0.000533</td>\n      <td>1.000000</td>\n      <td>-0.000532</td>\n      <td>1.000000</td>\n    </tr>\n    <tr>\n      <th>newbalanceOrg</th>\n      <td>0.026422</td>\n      <td>-0.006443</td>\n      <td>0.003393</td>\n      <td>0.011899</td>\n      <td>1.000000</td>\n      <td>-0.000532</td>\n      <td>1.000000</td>\n      <td>-0.000531</td>\n    </tr>\n    <tr>\n      <th>newbalanceDest</th>\n      <td>-0.026970</td>\n      <td>0.013744</td>\n      <td>-0.010899</td>\n      <td>-0.002667</td>\n      <td>-0.000532</td>\n      <td>1.000000</td>\n      <td>-0.000531</td>\n      <td>1.000000</td>\n    </tr>\n  </tbody>\n</table>\n</div>"
          },
          "metadata": {}
        }
      ],
      "execution_count": 119
    },
    {
      "cell_type": "code",
      "source": "df['Date'] = pd.to_datetime(df['Date'])",
      "metadata": {
        "trusted": true
      },
      "outputs": [],
      "execution_count": 120
    },
    {
      "cell_type": "code",
      "source": "df.head()",
      "metadata": {
        "trusted": true
      },
      "outputs": [
        {
          "execution_count": 121,
          "output_type": "execute_result",
          "data": {
            "text/plain": "      customer  age  gender    merchant  amount  fraud        City      type  \\\n0   C546697817    5       0  M348934600   25.31      0       Delhi  CASH_OUT   \n1   C465897830    4       1  M480139044  263.24      1       Delhi   PAYMENT   \n2  C2125787399    4       0  M349281107   59.77      0      Jaipur  CASH_OUT   \n3  C2118328869    2       0  M933210764  278.73      1     Lucknow  CASH_OUT   \n4  C1837200499    4       1  M980657600  958.53      1  Pandharpur  CASH_OUT   \n\n   Card Type Exp Type  oldbalanceOrg  oldbalanceDest       Date  \\\n0  Signature     Food        47169.0       205879.66 2011-11-05   \n1  Signature   Travel        20143.0      2469789.14 2011-10-21   \n2  Signature   Travel        33819.0       414358.05 2013-02-25   \n3  Signature     Food        14309.0       101846.02 2014-03-12   \n4  Signature     Food        54794.0        35507.81 2012-12-16   \n\n   newbalanceOrg  newbalanceDest  \n0       47143.69       205904.97  \n1       19879.76      2470052.38  \n2       33759.23       414417.82  \n3       14030.27       102124.75  \n4       53835.47        36466.34  ",
            "text/html": "<div>\n<style scoped>\n    .dataframe tbody tr th:only-of-type {\n        vertical-align: middle;\n    }\n\n    .dataframe tbody tr th {\n        vertical-align: top;\n    }\n\n    .dataframe thead th {\n        text-align: right;\n    }\n</style>\n<table border=\"1\" class=\"dataframe\">\n  <thead>\n    <tr style=\"text-align: right;\">\n      <th></th>\n      <th>customer</th>\n      <th>age</th>\n      <th>gender</th>\n      <th>merchant</th>\n      <th>amount</th>\n      <th>fraud</th>\n      <th>City</th>\n      <th>type</th>\n      <th>Card Type</th>\n      <th>Exp Type</th>\n      <th>oldbalanceOrg</th>\n      <th>oldbalanceDest</th>\n      <th>Date</th>\n      <th>newbalanceOrg</th>\n      <th>newbalanceDest</th>\n    </tr>\n  </thead>\n  <tbody>\n    <tr>\n      <th>0</th>\n      <td>C546697817</td>\n      <td>5</td>\n      <td>0</td>\n      <td>M348934600</td>\n      <td>25.31</td>\n      <td>0</td>\n      <td>Delhi</td>\n      <td>CASH_OUT</td>\n      <td>Signature</td>\n      <td>Food</td>\n      <td>47169.0</td>\n      <td>205879.66</td>\n      <td>2011-11-05</td>\n      <td>47143.69</td>\n      <td>205904.97</td>\n    </tr>\n    <tr>\n      <th>1</th>\n      <td>C465897830</td>\n      <td>4</td>\n      <td>1</td>\n      <td>M480139044</td>\n      <td>263.24</td>\n      <td>1</td>\n      <td>Delhi</td>\n      <td>PAYMENT</td>\n      <td>Signature</td>\n      <td>Travel</td>\n      <td>20143.0</td>\n      <td>2469789.14</td>\n      <td>2011-10-21</td>\n      <td>19879.76</td>\n      <td>2470052.38</td>\n    </tr>\n    <tr>\n      <th>2</th>\n      <td>C2125787399</td>\n      <td>4</td>\n      <td>0</td>\n      <td>M349281107</td>\n      <td>59.77</td>\n      <td>0</td>\n      <td>Jaipur</td>\n      <td>CASH_OUT</td>\n      <td>Signature</td>\n      <td>Travel</td>\n      <td>33819.0</td>\n      <td>414358.05</td>\n      <td>2013-02-25</td>\n      <td>33759.23</td>\n      <td>414417.82</td>\n    </tr>\n    <tr>\n      <th>3</th>\n      <td>C2118328869</td>\n      <td>2</td>\n      <td>0</td>\n      <td>M933210764</td>\n      <td>278.73</td>\n      <td>1</td>\n      <td>Lucknow</td>\n      <td>CASH_OUT</td>\n      <td>Signature</td>\n      <td>Food</td>\n      <td>14309.0</td>\n      <td>101846.02</td>\n      <td>2014-03-12</td>\n      <td>14030.27</td>\n      <td>102124.75</td>\n    </tr>\n    <tr>\n      <th>4</th>\n      <td>C1837200499</td>\n      <td>4</td>\n      <td>1</td>\n      <td>M980657600</td>\n      <td>958.53</td>\n      <td>1</td>\n      <td>Pandharpur</td>\n      <td>CASH_OUT</td>\n      <td>Signature</td>\n      <td>Food</td>\n      <td>54794.0</td>\n      <td>35507.81</td>\n      <td>2012-12-16</td>\n      <td>53835.47</td>\n      <td>36466.34</td>\n    </tr>\n  </tbody>\n</table>\n</div>"
          },
          "metadata": {}
        }
      ],
      "execution_count": 121
    },
    {
      "cell_type": "code",
      "source": "selected_columns = ['age', 'amount', 'fraud','oldbalanceOrg','oldbalanceDest','newbalanceOrg','newbalanceDest','gender']",
      "metadata": {
        "trusted": true
      },
      "outputs": [],
      "execution_count": 122
    },
    {
      "cell_type": "code",
      "source": "df.info()",
      "metadata": {
        "trusted": true
      },
      "outputs": [
        {
          "name": "stdout",
          "text": "<class 'pandas.core.frame.DataFrame'>\nRangeIndex: 56835 entries, 0 to 56834\nData columns (total 15 columns):\n #   Column          Non-Null Count  Dtype         \n---  ------          --------------  -----         \n 0   customer        56835 non-null  object        \n 1   age             56835 non-null  int64         \n 2   gender          56835 non-null  int64         \n 3   merchant        56835 non-null  object        \n 4   amount          56835 non-null  float64       \n 5   fraud           56835 non-null  int64         \n 6   City            56835 non-null  object        \n 7   type            56835 non-null  object        \n 8   Card Type       56835 non-null  object        \n 9   Exp Type        56835 non-null  object        \n 10  oldbalanceOrg   56835 non-null  float64       \n 11  oldbalanceDest  56835 non-null  float64       \n 12  Date            56835 non-null  datetime64[ns]\n 13  newbalanceOrg   56835 non-null  float64       \n 14  newbalanceDest  56835 non-null  float64       \ndtypes: datetime64[ns](1), float64(5), int64(3), object(6)\nmemory usage: 5.2+ MB\n",
          "output_type": "stream"
        }
      ],
      "execution_count": 123
    },
    {
      "cell_type": "code",
      "source": "new_df = df[selected_columns]",
      "metadata": {
        "trusted": true
      },
      "outputs": [],
      "execution_count": 124
    },
    {
      "cell_type": "code",
      "source": "X=new_df.drop(columns=\"fraud\", axis=1)\nY=new_df[\"fraud\"]",
      "metadata": {
        "trusted": true
      },
      "outputs": [],
      "execution_count": 125
    },
    {
      "cell_type": "code",
      "source": "X_train, X_test, Y_train, Y_test=train_test_split(X, Y, test_size=0.2, stratify=Y, random_state=2)\n\nprint(\"Train Set : \", X_train.shape, Y_train.shape)\nprint(\"Test Set : \", X_test.shape, Y_test.shape)",
      "metadata": {
        "trusted": true
      },
      "outputs": [
        {
          "name": "stdout",
          "text": "Train Set :  (45468, 7) (45468,)\nTest Set :  (11367, 7) (11367,)\n",
          "output_type": "stream"
        }
      ],
      "execution_count": 126
    },
    {
      "cell_type": "code",
      "source": "LRModel=LogisticRegression()",
      "metadata": {
        "trusted": true
      },
      "outputs": [],
      "execution_count": 127
    },
    {
      "cell_type": "code",
      "source": "LRModel.fit(X_train, Y_train)",
      "metadata": {
        "trusted": true
      },
      "outputs": [
        {
          "execution_count": 128,
          "output_type": "execute_result",
          "data": {
            "text/plain": "LogisticRegression()",
            "text/html": "<style>#sk-container-id-11 {color: black;}#sk-container-id-11 pre{padding: 0;}#sk-container-id-11 div.sk-toggleable {background-color: white;}#sk-container-id-11 label.sk-toggleable__label {cursor: pointer;display: block;width: 100%;margin-bottom: 0;padding: 0.3em;box-sizing: border-box;text-align: center;}#sk-container-id-11 label.sk-toggleable__label-arrow:before {content: \"▸\";float: left;margin-right: 0.25em;color: #696969;}#sk-container-id-11 label.sk-toggleable__label-arrow:hover:before {color: black;}#sk-container-id-11 div.sk-estimator:hover label.sk-toggleable__label-arrow:before {color: black;}#sk-container-id-11 div.sk-toggleable__content {max-height: 0;max-width: 0;overflow: hidden;text-align: left;background-color: #f0f8ff;}#sk-container-id-11 div.sk-toggleable__content pre {margin: 0.2em;color: black;border-radius: 0.25em;background-color: #f0f8ff;}#sk-container-id-11 input.sk-toggleable__control:checked~div.sk-toggleable__content {max-height: 200px;max-width: 100%;overflow: auto;}#sk-container-id-11 input.sk-toggleable__control:checked~label.sk-toggleable__label-arrow:before {content: \"▾\";}#sk-container-id-11 div.sk-estimator input.sk-toggleable__control:checked~label.sk-toggleable__label {background-color: #d4ebff;}#sk-container-id-11 div.sk-label input.sk-toggleable__control:checked~label.sk-toggleable__label {background-color: #d4ebff;}#sk-container-id-11 input.sk-hidden--visually {border: 0;clip: rect(1px 1px 1px 1px);clip: rect(1px, 1px, 1px, 1px);height: 1px;margin: -1px;overflow: hidden;padding: 0;position: absolute;width: 1px;}#sk-container-id-11 div.sk-estimator {font-family: monospace;background-color: #f0f8ff;border: 1px dotted black;border-radius: 0.25em;box-sizing: border-box;margin-bottom: 0.5em;}#sk-container-id-11 div.sk-estimator:hover {background-color: #d4ebff;}#sk-container-id-11 div.sk-parallel-item::after {content: \"\";width: 100%;border-bottom: 1px solid gray;flex-grow: 1;}#sk-container-id-11 div.sk-label:hover label.sk-toggleable__label {background-color: #d4ebff;}#sk-container-id-11 div.sk-serial::before {content: \"\";position: absolute;border-left: 1px solid gray;box-sizing: border-box;top: 0;bottom: 0;left: 50%;z-index: 0;}#sk-container-id-11 div.sk-serial {display: flex;flex-direction: column;align-items: center;background-color: white;padding-right: 0.2em;padding-left: 0.2em;position: relative;}#sk-container-id-11 div.sk-item {position: relative;z-index: 1;}#sk-container-id-11 div.sk-parallel {display: flex;align-items: stretch;justify-content: center;background-color: white;position: relative;}#sk-container-id-11 div.sk-item::before, #sk-container-id-11 div.sk-parallel-item::before {content: \"\";position: absolute;border-left: 1px solid gray;box-sizing: border-box;top: 0;bottom: 0;left: 50%;z-index: -1;}#sk-container-id-11 div.sk-parallel-item {display: flex;flex-direction: column;z-index: 1;position: relative;background-color: white;}#sk-container-id-11 div.sk-parallel-item:first-child::after {align-self: flex-end;width: 50%;}#sk-container-id-11 div.sk-parallel-item:last-child::after {align-self: flex-start;width: 50%;}#sk-container-id-11 div.sk-parallel-item:only-child::after {width: 0;}#sk-container-id-11 div.sk-dashed-wrapped {border: 1px dashed gray;margin: 0 0.4em 0.5em 0.4em;box-sizing: border-box;padding-bottom: 0.4em;background-color: white;}#sk-container-id-11 div.sk-label label {font-family: monospace;font-weight: bold;display: inline-block;line-height: 1.2em;}#sk-container-id-11 div.sk-label-container {text-align: center;}#sk-container-id-11 div.sk-container {/* jupyter's `normalize.less` sets `[hidden] { display: none; }` but bootstrap.min.css set `[hidden] { display: none !important; }` so we also need the `!important` here to be able to override the default hidden behavior on the sphinx rendered scikit-learn.org. See: https://github.com/scikit-learn/scikit-learn/issues/21755 */display: inline-block !important;position: relative;}#sk-container-id-11 div.sk-text-repr-fallback {display: none;}</style><div id=\"sk-container-id-11\" class=\"sk-top-container\"><div class=\"sk-text-repr-fallback\"><pre>LogisticRegression()</pre><b>In a Jupyter environment, please rerun this cell to show the HTML representation or trust the notebook. <br />On GitHub, the HTML representation is unable to render, please try loading this page with nbviewer.org.</b></div><div class=\"sk-container\" hidden><div class=\"sk-item\"><div class=\"sk-estimator sk-toggleable\"><input class=\"sk-toggleable__control sk-hidden--visually\" id=\"sk-estimator-id-11\" type=\"checkbox\" checked><label for=\"sk-estimator-id-11\" class=\"sk-toggleable__label sk-toggleable__label-arrow\">LogisticRegression</label><div class=\"sk-toggleable__content\"><pre>LogisticRegression()</pre></div></div></div></div></div>"
          },
          "metadata": {}
        }
      ],
      "execution_count": 128
    },
    {
      "cell_type": "code",
      "source": "# Accuracy on training data\nX_train_prediction=LRModel.predict(X_train)\nLR_training_data_accuracy=accuracy_score(X_train_prediction, Y_train)\n\nprint('Accuracy on Training data :',LR_training_data_accuracy)",
      "metadata": {
        "trusted": true
      },
      "outputs": [
        {
          "name": "stdout",
          "text": "Accuracy on Training data : 0.821764757631741\n",
          "output_type": "stream"
        }
      ],
      "execution_count": 129
    },
    {
      "cell_type": "code",
      "source": "# Accuracy on test data\nX_test_prediction = LRModel.predict(X_test)\nLR_test_data_accuracy = accuracy_score(X_test_prediction, Y_test)\n\nprint('Accuracy score on Test Data :', LR_test_data_accuracy)",
      "metadata": {
        "trusted": true
      },
      "outputs": [
        {
          "name": "stdout",
          "text": "Accuracy score on Test Data : 0.8215888097123252\n",
          "output_type": "stream"
        }
      ],
      "execution_count": 130
    },
    {
      "cell_type": "code",
      "source": "svm = SVC()\nsvm.fit(X_train, Y_train)",
      "metadata": {
        "trusted": true
      },
      "outputs": [
        {
          "execution_count": 131,
          "output_type": "execute_result",
          "data": {
            "text/plain": "SVC()",
            "text/html": "<style>#sk-container-id-12 {color: black;}#sk-container-id-12 pre{padding: 0;}#sk-container-id-12 div.sk-toggleable {background-color: white;}#sk-container-id-12 label.sk-toggleable__label {cursor: pointer;display: block;width: 100%;margin-bottom: 0;padding: 0.3em;box-sizing: border-box;text-align: center;}#sk-container-id-12 label.sk-toggleable__label-arrow:before {content: \"▸\";float: left;margin-right: 0.25em;color: #696969;}#sk-container-id-12 label.sk-toggleable__label-arrow:hover:before {color: black;}#sk-container-id-12 div.sk-estimator:hover label.sk-toggleable__label-arrow:before {color: black;}#sk-container-id-12 div.sk-toggleable__content {max-height: 0;max-width: 0;overflow: hidden;text-align: left;background-color: #f0f8ff;}#sk-container-id-12 div.sk-toggleable__content pre {margin: 0.2em;color: black;border-radius: 0.25em;background-color: #f0f8ff;}#sk-container-id-12 input.sk-toggleable__control:checked~div.sk-toggleable__content {max-height: 200px;max-width: 100%;overflow: auto;}#sk-container-id-12 input.sk-toggleable__control:checked~label.sk-toggleable__label-arrow:before {content: \"▾\";}#sk-container-id-12 div.sk-estimator input.sk-toggleable__control:checked~label.sk-toggleable__label {background-color: #d4ebff;}#sk-container-id-12 div.sk-label input.sk-toggleable__control:checked~label.sk-toggleable__label {background-color: #d4ebff;}#sk-container-id-12 input.sk-hidden--visually {border: 0;clip: rect(1px 1px 1px 1px);clip: rect(1px, 1px, 1px, 1px);height: 1px;margin: -1px;overflow: hidden;padding: 0;position: absolute;width: 1px;}#sk-container-id-12 div.sk-estimator {font-family: monospace;background-color: #f0f8ff;border: 1px dotted black;border-radius: 0.25em;box-sizing: border-box;margin-bottom: 0.5em;}#sk-container-id-12 div.sk-estimator:hover {background-color: #d4ebff;}#sk-container-id-12 div.sk-parallel-item::after {content: \"\";width: 100%;border-bottom: 1px solid gray;flex-grow: 1;}#sk-container-id-12 div.sk-label:hover label.sk-toggleable__label {background-color: #d4ebff;}#sk-container-id-12 div.sk-serial::before {content: \"\";position: absolute;border-left: 1px solid gray;box-sizing: border-box;top: 0;bottom: 0;left: 50%;z-index: 0;}#sk-container-id-12 div.sk-serial {display: flex;flex-direction: column;align-items: center;background-color: white;padding-right: 0.2em;padding-left: 0.2em;position: relative;}#sk-container-id-12 div.sk-item {position: relative;z-index: 1;}#sk-container-id-12 div.sk-parallel {display: flex;align-items: stretch;justify-content: center;background-color: white;position: relative;}#sk-container-id-12 div.sk-item::before, #sk-container-id-12 div.sk-parallel-item::before {content: \"\";position: absolute;border-left: 1px solid gray;box-sizing: border-box;top: 0;bottom: 0;left: 50%;z-index: -1;}#sk-container-id-12 div.sk-parallel-item {display: flex;flex-direction: column;z-index: 1;position: relative;background-color: white;}#sk-container-id-12 div.sk-parallel-item:first-child::after {align-self: flex-end;width: 50%;}#sk-container-id-12 div.sk-parallel-item:last-child::after {align-self: flex-start;width: 50%;}#sk-container-id-12 div.sk-parallel-item:only-child::after {width: 0;}#sk-container-id-12 div.sk-dashed-wrapped {border: 1px dashed gray;margin: 0 0.4em 0.5em 0.4em;box-sizing: border-box;padding-bottom: 0.4em;background-color: white;}#sk-container-id-12 div.sk-label label {font-family: monospace;font-weight: bold;display: inline-block;line-height: 1.2em;}#sk-container-id-12 div.sk-label-container {text-align: center;}#sk-container-id-12 div.sk-container {/* jupyter's `normalize.less` sets `[hidden] { display: none; }` but bootstrap.min.css set `[hidden] { display: none !important; }` so we also need the `!important` here to be able to override the default hidden behavior on the sphinx rendered scikit-learn.org. See: https://github.com/scikit-learn/scikit-learn/issues/21755 */display: inline-block !important;position: relative;}#sk-container-id-12 div.sk-text-repr-fallback {display: none;}</style><div id=\"sk-container-id-12\" class=\"sk-top-container\"><div class=\"sk-text-repr-fallback\"><pre>SVC()</pre><b>In a Jupyter environment, please rerun this cell to show the HTML representation or trust the notebook. <br />On GitHub, the HTML representation is unable to render, please try loading this page with nbviewer.org.</b></div><div class=\"sk-container\" hidden><div class=\"sk-item\"><div class=\"sk-estimator sk-toggleable\"><input class=\"sk-toggleable__control sk-hidden--visually\" id=\"sk-estimator-id-12\" type=\"checkbox\" checked><label for=\"sk-estimator-id-12\" class=\"sk-toggleable__label sk-toggleable__label-arrow\">SVC</label><div class=\"sk-toggleable__content\"><pre>SVC()</pre></div></div></div></div></div>"
          },
          "metadata": {}
        }
      ],
      "execution_count": 131
    },
    {
      "cell_type": "code",
      "source": "# Accuracy on training data\nX_train_prediction=svm.predict(X_train)\nSVM_training_data_accuracy=accuracy_score(X_train_prediction, Y_train)\nprint('Accuracy on Training data :',SVM_training_data_accuracy)",
      "metadata": {
        "trusted": true
      },
      "outputs": [
        {
          "name": "stdout",
          "text": "Accuracy on Training data : 0.8799155449986804\n",
          "output_type": "stream"
        }
      ],
      "execution_count": 132
    },
    {
      "cell_type": "code",
      "source": "# Accuracy on test data\nX_test_prediction = svm.predict(X_test)\nSVM_test_data_accuracy = accuracy_score(X_test_prediction, Y_test)\n\nprint('Accuracy score on Test Data :', SVM_test_data_accuracy)",
      "metadata": {
        "trusted": true
      },
      "outputs": [
        {
          "name": "stdout",
          "text": "Accuracy score on Test Data : 0.8798275710389725\n",
          "output_type": "stream"
        }
      ],
      "execution_count": 133
    },
    {
      "cell_type": "code",
      "source": "tree = DecisionTreeClassifier()\ntree.fit(X_train, Y_train)",
      "metadata": {
        "trusted": true
      },
      "outputs": [
        {
          "execution_count": 134,
          "output_type": "execute_result",
          "data": {
            "text/plain": "DecisionTreeClassifier()",
            "text/html": "<style>#sk-container-id-13 {color: black;}#sk-container-id-13 pre{padding: 0;}#sk-container-id-13 div.sk-toggleable {background-color: white;}#sk-container-id-13 label.sk-toggleable__label {cursor: pointer;display: block;width: 100%;margin-bottom: 0;padding: 0.3em;box-sizing: border-box;text-align: center;}#sk-container-id-13 label.sk-toggleable__label-arrow:before {content: \"▸\";float: left;margin-right: 0.25em;color: #696969;}#sk-container-id-13 label.sk-toggleable__label-arrow:hover:before {color: black;}#sk-container-id-13 div.sk-estimator:hover label.sk-toggleable__label-arrow:before {color: black;}#sk-container-id-13 div.sk-toggleable__content {max-height: 0;max-width: 0;overflow: hidden;text-align: left;background-color: #f0f8ff;}#sk-container-id-13 div.sk-toggleable__content pre {margin: 0.2em;color: black;border-radius: 0.25em;background-color: #f0f8ff;}#sk-container-id-13 input.sk-toggleable__control:checked~div.sk-toggleable__content {max-height: 200px;max-width: 100%;overflow: auto;}#sk-container-id-13 input.sk-toggleable__control:checked~label.sk-toggleable__label-arrow:before {content: \"▾\";}#sk-container-id-13 div.sk-estimator input.sk-toggleable__control:checked~label.sk-toggleable__label {background-color: #d4ebff;}#sk-container-id-13 div.sk-label input.sk-toggleable__control:checked~label.sk-toggleable__label {background-color: #d4ebff;}#sk-container-id-13 input.sk-hidden--visually {border: 0;clip: rect(1px 1px 1px 1px);clip: rect(1px, 1px, 1px, 1px);height: 1px;margin: -1px;overflow: hidden;padding: 0;position: absolute;width: 1px;}#sk-container-id-13 div.sk-estimator {font-family: monospace;background-color: #f0f8ff;border: 1px dotted black;border-radius: 0.25em;box-sizing: border-box;margin-bottom: 0.5em;}#sk-container-id-13 div.sk-estimator:hover {background-color: #d4ebff;}#sk-container-id-13 div.sk-parallel-item::after {content: \"\";width: 100%;border-bottom: 1px solid gray;flex-grow: 1;}#sk-container-id-13 div.sk-label:hover label.sk-toggleable__label {background-color: #d4ebff;}#sk-container-id-13 div.sk-serial::before {content: \"\";position: absolute;border-left: 1px solid gray;box-sizing: border-box;top: 0;bottom: 0;left: 50%;z-index: 0;}#sk-container-id-13 div.sk-serial {display: flex;flex-direction: column;align-items: center;background-color: white;padding-right: 0.2em;padding-left: 0.2em;position: relative;}#sk-container-id-13 div.sk-item {position: relative;z-index: 1;}#sk-container-id-13 div.sk-parallel {display: flex;align-items: stretch;justify-content: center;background-color: white;position: relative;}#sk-container-id-13 div.sk-item::before, #sk-container-id-13 div.sk-parallel-item::before {content: \"\";position: absolute;border-left: 1px solid gray;box-sizing: border-box;top: 0;bottom: 0;left: 50%;z-index: -1;}#sk-container-id-13 div.sk-parallel-item {display: flex;flex-direction: column;z-index: 1;position: relative;background-color: white;}#sk-container-id-13 div.sk-parallel-item:first-child::after {align-self: flex-end;width: 50%;}#sk-container-id-13 div.sk-parallel-item:last-child::after {align-self: flex-start;width: 50%;}#sk-container-id-13 div.sk-parallel-item:only-child::after {width: 0;}#sk-container-id-13 div.sk-dashed-wrapped {border: 1px dashed gray;margin: 0 0.4em 0.5em 0.4em;box-sizing: border-box;padding-bottom: 0.4em;background-color: white;}#sk-container-id-13 div.sk-label label {font-family: monospace;font-weight: bold;display: inline-block;line-height: 1.2em;}#sk-container-id-13 div.sk-label-container {text-align: center;}#sk-container-id-13 div.sk-container {/* jupyter's `normalize.less` sets `[hidden] { display: none; }` but bootstrap.min.css set `[hidden] { display: none !important; }` so we also need the `!important` here to be able to override the default hidden behavior on the sphinx rendered scikit-learn.org. See: https://github.com/scikit-learn/scikit-learn/issues/21755 */display: inline-block !important;position: relative;}#sk-container-id-13 div.sk-text-repr-fallback {display: none;}</style><div id=\"sk-container-id-13\" class=\"sk-top-container\"><div class=\"sk-text-repr-fallback\"><pre>DecisionTreeClassifier()</pre><b>In a Jupyter environment, please rerun this cell to show the HTML representation or trust the notebook. <br />On GitHub, the HTML representation is unable to render, please try loading this page with nbviewer.org.</b></div><div class=\"sk-container\" hidden><div class=\"sk-item\"><div class=\"sk-estimator sk-toggleable\"><input class=\"sk-toggleable__control sk-hidden--visually\" id=\"sk-estimator-id-13\" type=\"checkbox\" checked><label for=\"sk-estimator-id-13\" class=\"sk-toggleable__label sk-toggleable__label-arrow\">DecisionTreeClassifier</label><div class=\"sk-toggleable__content\"><pre>DecisionTreeClassifier()</pre></div></div></div></div></div>"
          },
          "metadata": {}
        }
      ],
      "execution_count": 134
    },
    {
      "cell_type": "code",
      "source": "# Accuracy on training data\nX_train_prediction=tree.predict(X_train)\ntree_training_data_accuracy=accuracy_score(X_train_prediction, Y_train)\n\nprint('Accuracy on Training data :',tree_training_data_accuracy)",
      "metadata": {
        "trusted": true
      },
      "outputs": [
        {
          "name": "stdout",
          "text": "Accuracy on Training data : 1.0\n",
          "output_type": "stream"
        }
      ],
      "execution_count": 135
    },
    {
      "cell_type": "code",
      "source": "# Accuracy on test data\nX_test_prediction = tree.predict(X_test)\ntree_test_data_accuracy = accuracy_score(X_test_prediction, Y_test)\n\nprint('Accuracy score on Test Data :', tree_test_data_accuracy)",
      "metadata": {
        "trusted": true
      },
      "outputs": [
        {
          "name": "stdout",
          "text": "Accuracy score on Test Data : 0.9894431248350488\n",
          "output_type": "stream"
        }
      ],
      "execution_count": 136
    },
    {
      "cell_type": "code",
      "source": "KNN = KNeighborsClassifier()\nKNN.fit(X_train, Y_train)",
      "metadata": {
        "trusted": true
      },
      "outputs": [
        {
          "execution_count": 137,
          "output_type": "execute_result",
          "data": {
            "text/plain": "KNeighborsClassifier()",
            "text/html": "<style>#sk-container-id-14 {color: black;}#sk-container-id-14 pre{padding: 0;}#sk-container-id-14 div.sk-toggleable {background-color: white;}#sk-container-id-14 label.sk-toggleable__label {cursor: pointer;display: block;width: 100%;margin-bottom: 0;padding: 0.3em;box-sizing: border-box;text-align: center;}#sk-container-id-14 label.sk-toggleable__label-arrow:before {content: \"▸\";float: left;margin-right: 0.25em;color: #696969;}#sk-container-id-14 label.sk-toggleable__label-arrow:hover:before {color: black;}#sk-container-id-14 div.sk-estimator:hover label.sk-toggleable__label-arrow:before {color: black;}#sk-container-id-14 div.sk-toggleable__content {max-height: 0;max-width: 0;overflow: hidden;text-align: left;background-color: #f0f8ff;}#sk-container-id-14 div.sk-toggleable__content pre {margin: 0.2em;color: black;border-radius: 0.25em;background-color: #f0f8ff;}#sk-container-id-14 input.sk-toggleable__control:checked~div.sk-toggleable__content {max-height: 200px;max-width: 100%;overflow: auto;}#sk-container-id-14 input.sk-toggleable__control:checked~label.sk-toggleable__label-arrow:before {content: \"▾\";}#sk-container-id-14 div.sk-estimator input.sk-toggleable__control:checked~label.sk-toggleable__label {background-color: #d4ebff;}#sk-container-id-14 div.sk-label input.sk-toggleable__control:checked~label.sk-toggleable__label {background-color: #d4ebff;}#sk-container-id-14 input.sk-hidden--visually {border: 0;clip: rect(1px 1px 1px 1px);clip: rect(1px, 1px, 1px, 1px);height: 1px;margin: -1px;overflow: hidden;padding: 0;position: absolute;width: 1px;}#sk-container-id-14 div.sk-estimator {font-family: monospace;background-color: #f0f8ff;border: 1px dotted black;border-radius: 0.25em;box-sizing: border-box;margin-bottom: 0.5em;}#sk-container-id-14 div.sk-estimator:hover {background-color: #d4ebff;}#sk-container-id-14 div.sk-parallel-item::after {content: \"\";width: 100%;border-bottom: 1px solid gray;flex-grow: 1;}#sk-container-id-14 div.sk-label:hover label.sk-toggleable__label {background-color: #d4ebff;}#sk-container-id-14 div.sk-serial::before {content: \"\";position: absolute;border-left: 1px solid gray;box-sizing: border-box;top: 0;bottom: 0;left: 50%;z-index: 0;}#sk-container-id-14 div.sk-serial {display: flex;flex-direction: column;align-items: center;background-color: white;padding-right: 0.2em;padding-left: 0.2em;position: relative;}#sk-container-id-14 div.sk-item {position: relative;z-index: 1;}#sk-container-id-14 div.sk-parallel {display: flex;align-items: stretch;justify-content: center;background-color: white;position: relative;}#sk-container-id-14 div.sk-item::before, #sk-container-id-14 div.sk-parallel-item::before {content: \"\";position: absolute;border-left: 1px solid gray;box-sizing: border-box;top: 0;bottom: 0;left: 50%;z-index: -1;}#sk-container-id-14 div.sk-parallel-item {display: flex;flex-direction: column;z-index: 1;position: relative;background-color: white;}#sk-container-id-14 div.sk-parallel-item:first-child::after {align-self: flex-end;width: 50%;}#sk-container-id-14 div.sk-parallel-item:last-child::after {align-self: flex-start;width: 50%;}#sk-container-id-14 div.sk-parallel-item:only-child::after {width: 0;}#sk-container-id-14 div.sk-dashed-wrapped {border: 1px dashed gray;margin: 0 0.4em 0.5em 0.4em;box-sizing: border-box;padding-bottom: 0.4em;background-color: white;}#sk-container-id-14 div.sk-label label {font-family: monospace;font-weight: bold;display: inline-block;line-height: 1.2em;}#sk-container-id-14 div.sk-label-container {text-align: center;}#sk-container-id-14 div.sk-container {/* jupyter's `normalize.less` sets `[hidden] { display: none; }` but bootstrap.min.css set `[hidden] { display: none !important; }` so we also need the `!important` here to be able to override the default hidden behavior on the sphinx rendered scikit-learn.org. See: https://github.com/scikit-learn/scikit-learn/issues/21755 */display: inline-block !important;position: relative;}#sk-container-id-14 div.sk-text-repr-fallback {display: none;}</style><div id=\"sk-container-id-14\" class=\"sk-top-container\"><div class=\"sk-text-repr-fallback\"><pre>KNeighborsClassifier()</pre><b>In a Jupyter environment, please rerun this cell to show the HTML representation or trust the notebook. <br />On GitHub, the HTML representation is unable to render, please try loading this page with nbviewer.org.</b></div><div class=\"sk-container\" hidden><div class=\"sk-item\"><div class=\"sk-estimator sk-toggleable\"><input class=\"sk-toggleable__control sk-hidden--visually\" id=\"sk-estimator-id-14\" type=\"checkbox\" checked><label for=\"sk-estimator-id-14\" class=\"sk-toggleable__label sk-toggleable__label-arrow\">KNeighborsClassifier</label><div class=\"sk-toggleable__content\"><pre>KNeighborsClassifier()</pre></div></div></div></div></div>"
          },
          "metadata": {}
        }
      ],
      "execution_count": 137
    },
    {
      "cell_type": "code",
      "source": "# Accuracy on training data\nX_train_prediction=KNN.predict(X_train)\nKNN_training_data_accuracy=accuracy_score(X_train_prediction, Y_train)\n\nprint('Accuracy on Training data :',KNN_training_data_accuracy)",
      "metadata": {
        "trusted": true
      },
      "outputs": [
        {
          "name": "stdout",
          "text": "Accuracy on Training data : 0.949678895047066\n",
          "output_type": "stream"
        }
      ],
      "execution_count": 138
    },
    {
      "cell_type": "code",
      "source": "# Accuracy on test data\nX_test_prediction = KNN.predict(X_test)\nKNN_test_data_accuracy = accuracy_score(X_test_prediction, Y_test)\n\nprint('Accuracy score on Test Data :', KNN_test_data_accuracy)",
      "metadata": {
        "trusted": true
      },
      "outputs": [
        {
          "name": "stdout",
          "text": "Accuracy score on Test Data : 0.9225829154570248\n",
          "output_type": "stream"
        }
      ],
      "execution_count": 139
    },
    {
      "cell_type": "code",
      "source": "gnb=GaussianNB()\ngnb.fit(X_train, Y_train)",
      "metadata": {
        "trusted": true
      },
      "outputs": [
        {
          "execution_count": 140,
          "output_type": "execute_result",
          "data": {
            "text/plain": "GaussianNB()",
            "text/html": "<style>#sk-container-id-15 {color: black;}#sk-container-id-15 pre{padding: 0;}#sk-container-id-15 div.sk-toggleable {background-color: white;}#sk-container-id-15 label.sk-toggleable__label {cursor: pointer;display: block;width: 100%;margin-bottom: 0;padding: 0.3em;box-sizing: border-box;text-align: center;}#sk-container-id-15 label.sk-toggleable__label-arrow:before {content: \"▸\";float: left;margin-right: 0.25em;color: #696969;}#sk-container-id-15 label.sk-toggleable__label-arrow:hover:before {color: black;}#sk-container-id-15 div.sk-estimator:hover label.sk-toggleable__label-arrow:before {color: black;}#sk-container-id-15 div.sk-toggleable__content {max-height: 0;max-width: 0;overflow: hidden;text-align: left;background-color: #f0f8ff;}#sk-container-id-15 div.sk-toggleable__content pre {margin: 0.2em;color: black;border-radius: 0.25em;background-color: #f0f8ff;}#sk-container-id-15 input.sk-toggleable__control:checked~div.sk-toggleable__content {max-height: 200px;max-width: 100%;overflow: auto;}#sk-container-id-15 input.sk-toggleable__control:checked~label.sk-toggleable__label-arrow:before {content: \"▾\";}#sk-container-id-15 div.sk-estimator input.sk-toggleable__control:checked~label.sk-toggleable__label {background-color: #d4ebff;}#sk-container-id-15 div.sk-label input.sk-toggleable__control:checked~label.sk-toggleable__label {background-color: #d4ebff;}#sk-container-id-15 input.sk-hidden--visually {border: 0;clip: rect(1px 1px 1px 1px);clip: rect(1px, 1px, 1px, 1px);height: 1px;margin: -1px;overflow: hidden;padding: 0;position: absolute;width: 1px;}#sk-container-id-15 div.sk-estimator {font-family: monospace;background-color: #f0f8ff;border: 1px dotted black;border-radius: 0.25em;box-sizing: border-box;margin-bottom: 0.5em;}#sk-container-id-15 div.sk-estimator:hover {background-color: #d4ebff;}#sk-container-id-15 div.sk-parallel-item::after {content: \"\";width: 100%;border-bottom: 1px solid gray;flex-grow: 1;}#sk-container-id-15 div.sk-label:hover label.sk-toggleable__label {background-color: #d4ebff;}#sk-container-id-15 div.sk-serial::before {content: \"\";position: absolute;border-left: 1px solid gray;box-sizing: border-box;top: 0;bottom: 0;left: 50%;z-index: 0;}#sk-container-id-15 div.sk-serial {display: flex;flex-direction: column;align-items: center;background-color: white;padding-right: 0.2em;padding-left: 0.2em;position: relative;}#sk-container-id-15 div.sk-item {position: relative;z-index: 1;}#sk-container-id-15 div.sk-parallel {display: flex;align-items: stretch;justify-content: center;background-color: white;position: relative;}#sk-container-id-15 div.sk-item::before, #sk-container-id-15 div.sk-parallel-item::before {content: \"\";position: absolute;border-left: 1px solid gray;box-sizing: border-box;top: 0;bottom: 0;left: 50%;z-index: -1;}#sk-container-id-15 div.sk-parallel-item {display: flex;flex-direction: column;z-index: 1;position: relative;background-color: white;}#sk-container-id-15 div.sk-parallel-item:first-child::after {align-self: flex-end;width: 50%;}#sk-container-id-15 div.sk-parallel-item:last-child::after {align-self: flex-start;width: 50%;}#sk-container-id-15 div.sk-parallel-item:only-child::after {width: 0;}#sk-container-id-15 div.sk-dashed-wrapped {border: 1px dashed gray;margin: 0 0.4em 0.5em 0.4em;box-sizing: border-box;padding-bottom: 0.4em;background-color: white;}#sk-container-id-15 div.sk-label label {font-family: monospace;font-weight: bold;display: inline-block;line-height: 1.2em;}#sk-container-id-15 div.sk-label-container {text-align: center;}#sk-container-id-15 div.sk-container {/* jupyter's `normalize.less` sets `[hidden] { display: none; }` but bootstrap.min.css set `[hidden] { display: none !important; }` so we also need the `!important` here to be able to override the default hidden behavior on the sphinx rendered scikit-learn.org. See: https://github.com/scikit-learn/scikit-learn/issues/21755 */display: inline-block !important;position: relative;}#sk-container-id-15 div.sk-text-repr-fallback {display: none;}</style><div id=\"sk-container-id-15\" class=\"sk-top-container\"><div class=\"sk-text-repr-fallback\"><pre>GaussianNB()</pre><b>In a Jupyter environment, please rerun this cell to show the HTML representation or trust the notebook. <br />On GitHub, the HTML representation is unable to render, please try loading this page with nbviewer.org.</b></div><div class=\"sk-container\" hidden><div class=\"sk-item\"><div class=\"sk-estimator sk-toggleable\"><input class=\"sk-toggleable__control sk-hidden--visually\" id=\"sk-estimator-id-15\" type=\"checkbox\" checked><label for=\"sk-estimator-id-15\" class=\"sk-toggleable__label sk-toggleable__label-arrow\">GaussianNB</label><div class=\"sk-toggleable__content\"><pre>GaussianNB()</pre></div></div></div></div></div>"
          },
          "metadata": {}
        }
      ],
      "execution_count": 140
    },
    {
      "cell_type": "code",
      "source": "# Accuracy on training data\nX_train_prediction=gnb.predict(X_train)\nGNB_training_data_accuracy=accuracy_score(X_train_prediction, Y_train)\n\nprint('Accuracy on Training data :',GNB_training_data_accuracy)",
      "metadata": {
        "trusted": true
      },
      "outputs": [
        {
          "name": "stdout",
          "text": "Accuracy on Training data : 0.9135215976071083\n",
          "output_type": "stream"
        }
      ],
      "execution_count": 141
    },
    {
      "cell_type": "code",
      "source": "# Accuracy on test data\nX_test_prediction = gnb.predict(X_test)\nGNB_test_data_accuracy = accuracy_score(X_test_prediction, Y_test)\n\nprint('Accuracy score on Test Data :', GNB_test_data_accuracy)",
      "metadata": {
        "trusted": true
      },
      "outputs": [
        {
          "name": "stdout",
          "text": "Accuracy score on Test Data : 0.9106184569367467\n",
          "output_type": "stream"
        }
      ],
      "execution_count": 142
    },
    {
      "cell_type": "code",
      "source": "methods = ['Logreg','Svm','Tree','Knn', 'GNB']\n\naccs_train = [LR_training_data_accuracy,SVM_training_data_accuracy,tree_training_data_accuracy,KNN_training_data_accuracy,GNB_training_data_accuracy]\naccs_test = [LR_test_data_accuracy,SVM_test_data_accuracy,tree_test_data_accuracy,KNN_test_data_accuracy,GNB_test_data_accuracy]\n\ndict_meth_accs = {}\n\nfor i in range(len(methods)):\n    dict_meth_accs[methods[i]] = [accs_train[i], accs_test[i]]\n\ndata_acc = pd.DataFrame.from_dict(dict_meth_accs, orient='index')\ndata_acc.rename(columns={0: 'Accuracy Train', 1: 'Accuracy Test'}, inplace = True)\n\ndata_acc.head()",
      "metadata": {
        "trusted": true
      },
      "outputs": [
        {
          "execution_count": 150,
          "output_type": "execute_result",
          "data": {
            "text/plain": "        Accuracy Train  Accuracy Test\nLogreg        0.821765       0.821589\nSvm           0.879916       0.879828\nTree          1.000000       0.989443\nKnn           0.949679       0.922583\nGNB           0.913522       0.910618",
            "text/html": "<div>\n<style scoped>\n    .dataframe tbody tr th:only-of-type {\n        vertical-align: middle;\n    }\n\n    .dataframe tbody tr th {\n        vertical-align: top;\n    }\n\n    .dataframe thead th {\n        text-align: right;\n    }\n</style>\n<table border=\"1\" class=\"dataframe\">\n  <thead>\n    <tr style=\"text-align: right;\">\n      <th></th>\n      <th>Accuracy Train</th>\n      <th>Accuracy Test</th>\n    </tr>\n  </thead>\n  <tbody>\n    <tr>\n      <th>Logreg</th>\n      <td>0.821765</td>\n      <td>0.821589</td>\n    </tr>\n    <tr>\n      <th>Svm</th>\n      <td>0.879916</td>\n      <td>0.879828</td>\n    </tr>\n    <tr>\n      <th>Tree</th>\n      <td>1.000000</td>\n      <td>0.989443</td>\n    </tr>\n    <tr>\n      <th>Knn</th>\n      <td>0.949679</td>\n      <td>0.922583</td>\n    </tr>\n    <tr>\n      <th>GNB</th>\n      <td>0.913522</td>\n      <td>0.910618</td>\n    </tr>\n  </tbody>\n</table>\n</div>"
          },
          "metadata": {}
        }
      ],
      "execution_count": 150
    },
    {
      "cell_type": "code",
      "source": "df_sorted_train = data_acc.sort_values(by = ['Accuracy Train'], ascending=False) \ndf_sorted_train",
      "metadata": {
        "trusted": true
      },
      "outputs": [
        {
          "execution_count": 144,
          "output_type": "execute_result",
          "data": {
            "text/plain": "        Accuracy Train  Accuracy Test\nTree          1.000000       0.989443\nKnn           0.949679       0.922583\nGNB           0.913522       0.910618\nSvm           0.879916       0.879828\nLogreg        0.821765       0.821589",
            "text/html": "<div>\n<style scoped>\n    .dataframe tbody tr th:only-of-type {\n        vertical-align: middle;\n    }\n\n    .dataframe tbody tr th {\n        vertical-align: top;\n    }\n\n    .dataframe thead th {\n        text-align: right;\n    }\n</style>\n<table border=\"1\" class=\"dataframe\">\n  <thead>\n    <tr style=\"text-align: right;\">\n      <th></th>\n      <th>Accuracy Train</th>\n      <th>Accuracy Test</th>\n    </tr>\n  </thead>\n  <tbody>\n    <tr>\n      <th>Tree</th>\n      <td>1.000000</td>\n      <td>0.989443</td>\n    </tr>\n    <tr>\n      <th>Knn</th>\n      <td>0.949679</td>\n      <td>0.922583</td>\n    </tr>\n    <tr>\n      <th>GNB</th>\n      <td>0.913522</td>\n      <td>0.910618</td>\n    </tr>\n    <tr>\n      <th>Svm</th>\n      <td>0.879916</td>\n      <td>0.879828</td>\n    </tr>\n    <tr>\n      <th>Logreg</th>\n      <td>0.821765</td>\n      <td>0.821589</td>\n    </tr>\n  </tbody>\n</table>\n</div>"
          },
          "metadata": {}
        }
      ],
      "execution_count": 144
    },
    {
      "cell_type": "code",
      "source": "df_sorted_test = data_acc.sort_values(by = ['Accuracy Test'], ascending=False) \ndf_sorted_test",
      "metadata": {
        "trusted": true
      },
      "outputs": [
        {
          "execution_count": 145,
          "output_type": "execute_result",
          "data": {
            "text/plain": "        Accuracy Train  Accuracy Test\nTree          1.000000       0.989443\nKnn           0.949679       0.922583\nGNB           0.913522       0.910618\nSvm           0.879916       0.879828\nLogreg        0.821765       0.821589",
            "text/html": "<div>\n<style scoped>\n    .dataframe tbody tr th:only-of-type {\n        vertical-align: middle;\n    }\n\n    .dataframe tbody tr th {\n        vertical-align: top;\n    }\n\n    .dataframe thead th {\n        text-align: right;\n    }\n</style>\n<table border=\"1\" class=\"dataframe\">\n  <thead>\n    <tr style=\"text-align: right;\">\n      <th></th>\n      <th>Accuracy Train</th>\n      <th>Accuracy Test</th>\n    </tr>\n  </thead>\n  <tbody>\n    <tr>\n      <th>Tree</th>\n      <td>1.000000</td>\n      <td>0.989443</td>\n    </tr>\n    <tr>\n      <th>Knn</th>\n      <td>0.949679</td>\n      <td>0.922583</td>\n    </tr>\n    <tr>\n      <th>GNB</th>\n      <td>0.913522</td>\n      <td>0.910618</td>\n    </tr>\n    <tr>\n      <th>Svm</th>\n      <td>0.879916</td>\n      <td>0.879828</td>\n    </tr>\n    <tr>\n      <th>Logreg</th>\n      <td>0.821765</td>\n      <td>0.821589</td>\n    </tr>\n  </tbody>\n</table>\n</div>"
          },
          "metadata": {}
        }
      ],
      "execution_count": 145
    },
    {
      "cell_type": "code",
      "source": "import matplotlib.pyplot as plt",
      "metadata": {
        "trusted": true
      },
      "outputs": [],
      "execution_count": 146
    },
    {
      "cell_type": "code",
      "source": "acc_train_methods = data_acc[\"Accuracy Train\"]\n\nax = acc_train_methods.plot(kind='bar', figsize=(10, 7))\nax.set_xlabel(\"Methods\")\nax.set_ylabel(\"Train accuracy\")\nax.set_title(\"Methods Performance on Train Data\")\n\n#If you want to zoom in to see the results better\nax.set_ylim(ymin=0.5, ymax=1.1)",
      "metadata": {
        "trusted": true
      },
      "outputs": [
        {
          "execution_count": 147,
          "output_type": "execute_result",
          "data": {
            "text/plain": "(0.5, 1.1)"
          },
          "metadata": {}
        },
        {
          "output_type": "display_data",
          "data": {
            "text/plain": "<Figure size 1000x700 with 1 Axes>",
            "image/png": "[encoded data removed]"
          },
          "metadata": {}
        }
      ],
      "execution_count": 147
    },
    {
      "cell_type": "code",
      "source": "acc_train_methods = data_acc[\"Accuracy Test\"]\n\nax = acc_train_methods.plot(kind='bar', figsize=(10, 7))\nax.set_xlabel(\"Methods\")\nax.set_ylabel(\"Test accuracy\")\nax.set_title(\"Methods Performance on Test Data\")\n\n#If you want to zoom in to see the results better\nax.set_ylim(ymin=0.45, ymax=1.0)",
      "metadata": {
        "trusted": true
      },
      "outputs": [
        {
          "execution_count": 148,
          "output_type": "execute_result",
          "data": {
            "text/plain": "(0.45, 1.0)"
          },
          "metadata": {}
        },
        {
          "output_type": "display_data",
          "data": {
            "text/plain": "<Figure size 1000x700 with 1 Axes>",
            "image/png": "[encoded data removed]"
          },
          "metadata": {}
        }
      ],
      "execution_count": 148
    },
    {
      "cell_type": "code",
      "source": "df.corr()",
      "metadata": {
        "trusted": true
      },
      "outputs": [
        {
          "name": "stderr",
          "text": "<ipython-input-149-2f6f6606aa2c>:1: FutureWarning: The default value of numeric_only in DataFrame.corr is deprecated. In a future version, it will default to False. Select only valid columns or specify the value of numeric_only to silence this warning.\n  df.corr()\n",
          "output_type": "stream"
        },
        {
          "execution_count": 149,
          "output_type": "execute_result",
          "data": {
            "text/plain": "                     age    gender    amount     fraud  oldbalanceOrg  \\\nage             1.000000  0.037185 -0.001531 -0.000292       0.026422   \ngender          0.037185  1.000000 -0.039028 -0.058864      -0.006447   \namount         -0.001531 -0.039028  1.000000  0.467451       0.003490   \nfraud          -0.000292 -0.058864  0.467451  1.000000       0.011944   \noldbalanceOrg   0.026422 -0.006447  0.003490  0.011944       1.000000   \noldbalanceDest -0.026969  0.013748 -0.011019 -0.002724      -0.000533   \nnewbalanceOrg   0.026422 -0.006443  0.003393  0.011899       1.000000   \nnewbalanceDest -0.026970  0.013744 -0.010899 -0.002667      -0.000532   \n\n                oldbalanceDest  newbalanceOrg  newbalanceDest  \nage                  -0.026969       0.026422       -0.026970  \ngender                0.013748      -0.006443        0.013744  \namount               -0.011019       0.003393       -0.010899  \nfraud                -0.002724       0.011899       -0.002667  \noldbalanceOrg        -0.000533       1.000000       -0.000532  \noldbalanceDest        1.000000      -0.000532        1.000000  \nnewbalanceOrg        -0.000532       1.000000       -0.000531  \nnewbalanceDest        1.000000      -0.000531        1.000000  ",
            "text/html": "<div>\n<style scoped>\n    .dataframe tbody tr th:only-of-type {\n        vertical-align: middle;\n    }\n\n    .dataframe tbody tr th {\n        vertical-align: top;\n    }\n\n    .dataframe thead th {\n        text-align: right;\n    }\n</style>\n<table border=\"1\" class=\"dataframe\">\n  <thead>\n    <tr style=\"text-align: right;\">\n      <th></th>\n      <th>age</th>\n      <th>gender</th>\n      <th>amount</th>\n      <th>fraud</th>\n      <th>oldbalanceOrg</th>\n      <th>oldbalanceDest</th>\n      <th>newbalanceOrg</th>\n      <th>newbalanceDest</th>\n    </tr>\n  </thead>\n  <tbody>\n    <tr>\n      <th>age</th>\n      <td>1.000000</td>\n      <td>0.037185</td>\n      <td>-0.001531</td>\n      <td>-0.000292</td>\n      <td>0.026422</td>\n      <td>-0.026969</td>\n      <td>0.026422</td>\n      <td>-0.026970</td>\n    </tr>\n    <tr>\n      <th>gender</th>\n      <td>0.037185</td>\n      <td>1.000000</td>\n      <td>-0.039028</td>\n      <td>-0.058864</td>\n      <td>-0.006447</td>\n      <td>0.013748</td>\n      <td>-0.006443</td>\n      <td>0.013744</td>\n    </tr>\n    <tr>\n      <th>amount</th>\n      <td>-0.001531</td>\n      <td>-0.039028</td>\n      <td>1.000000</td>\n      <td>0.467451</td>\n      <td>0.003490</td>\n      <td>-0.011019</td>\n      <td>0.003393</td>\n      <td>-0.010899</td>\n    </tr>\n    <tr>\n      <th>fraud</th>\n      <td>-0.000292</td>\n      <td>-0.058864</td>\n      <td>0.467451</td>\n      <td>1.000000</td>\n      <td>0.011944</td>\n      <td>-0.002724</td>\n      <td>0.011899</td>\n      <td>-0.002667</td>\n    </tr>\n    <tr>\n      <th>oldbalanceOrg</th>\n      <td>0.026422</td>\n      <td>-0.006447</td>\n      <td>0.003490</td>\n      <td>0.011944</td>\n      <td>1.000000</td>\n      <td>-0.000533</td>\n      <td>1.000000</td>\n      <td>-0.000532</td>\n    </tr>\n    <tr>\n      <th>oldbalanceDest</th>\n      <td>-0.026969</td>\n      <td>0.013748</td>\n      <td>-0.011019</td>\n      <td>-0.002724</td>\n      <td>-0.000533</td>\n      <td>1.000000</td>\n      <td>-0.000532</td>\n      <td>1.000000</td>\n    </tr>\n    <tr>\n      <th>newbalanceOrg</th>\n      <td>0.026422</td>\n      <td>-0.006443</td>\n      <td>0.003393</td>\n      <td>0.011899</td>\n      <td>1.000000</td>\n      <td>-0.000532</td>\n      <td>1.000000</td>\n      <td>-0.000531</td>\n    </tr>\n    <tr>\n      <th>newbalanceDest</th>\n      <td>-0.026970</td>\n      <td>0.013744</td>\n      <td>-0.010899</td>\n      <td>-0.002667</td>\n      <td>-0.000532</td>\n      <td>1.000000</td>\n      <td>-0.000531</td>\n      <td>1.000000</td>\n    </tr>\n  </tbody>\n</table>\n</div>"
          },
          "metadata": {}
        }
      ],
      "execution_count": 149
    },
    {
      "cell_type": "code",
      "source": "",
      "metadata": {
        "trusted": true
      },
      "outputs": [],
      "execution_count": null
    },
    {
      "cell_type": "code",
      "source": "",
      "metadata": {
        "trusted": true
      },
      "outputs": [],
      "execution_count": null
    }
  ]
}