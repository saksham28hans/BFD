{
  "metadata": {
    "kernelspec": {
      "name": "python",
      "display_name": "Python (Pyodide)",
      "language": "python"
    },
    "language_info": {
      "codemirror_mode": {
        "name": "python",
        "version": 3
      },
      "file_extension": ".py",
      "mimetype": "text/x-python",
      "name": "python",
      "nbconvert_exporter": "python",
      "pygments_lexer": "ipython3",
      "version": "3.8"
    }
  },
  "nbformat_minor": 4,
  "nbformat": 4,
  "cells": [
    {
      "cell_type": "code",
      "source": "import pandas as pd ",
      "metadata": {
        "trusted": true
      },
      "outputs": [],
      "execution_count": 132
    },
    {
      "cell_type": "code",
      "source": "df=pd.read_csv(\"akay.csv\")",
      "metadata": {
        "trusted": true
      },
      "outputs": [],
      "execution_count": 157
    },
    {
      "cell_type": "code",
      "source": "df.head()",
      "metadata": {
        "trusted": true
      },
      "outputs": [
        {
          "execution_count": 158,
          "output_type": "execute_result",
          "data": {
            "text/plain": "   Unnamed: 0.1  Unnamed: 0     customer  age gender     merchant  amount  \\\n0         15784       15885  C1827331929    3      F   M348934600    3.88   \n1          6864        6911  C1275518867    5      F   M209847108  370.79   \n2          4854        4891  C1434797923    3      M  M1198415165   96.63   \n3         17714       17829  C1439880421    4      F  M1823072687   17.22   \n4         48809       49108   C688652575    2      M   M348934600   83.91   \n\n   fraud       City      type  Card Type Exp Type  oldbalanceOrg  \\\n0      0       Pune   CASH_IN  Signature  Grocery       35718.00   \n1      1   Srinagar  CASH_OUT     Silver  Grocery       37870.00   \n2      1  Bengaluru   CASH_IN     Silver  Grocery    10500000.00   \n3      0  Panchkula  CASH_OUT  Signature  Grocery       68778.00   \n4      0  Hyderabad   PAYMENT  Signature  Grocery       67768.63   \n\n   oldbalanceDest       Date  newbalanceOrg  newbalanceDest  \n0      1346406.96  29-May-12       35714.12      1346410.84  \n1         4997.62  27-Sep-12       37499.21         5368.41  \n2       283806.11  17-Nov-13    10499903.37       283902.74  \n3      2438979.23  04-Mar-13       68760.78      2438996.45  \n4      7227334.26  23-Sep-13       67684.72      7227418.17  ",
            "text/html": "<div>\n<style scoped>\n    .dataframe tbody tr th:only-of-type {\n        vertical-align: middle;\n    }\n\n    .dataframe tbody tr th {\n        vertical-align: top;\n    }\n\n    .dataframe thead th {\n        text-align: right;\n    }\n</style>\n<table border=\"1\" class=\"dataframe\">\n  <thead>\n    <tr style=\"text-align: right;\">\n      <th></th>\n      <th>Unnamed: 0.1</th>\n      <th>Unnamed: 0</th>\n      <th>customer</th>\n      <th>age</th>\n      <th>gender</th>\n      <th>merchant</th>\n      <th>amount</th>\n      <th>fraud</th>\n      <th>City</th>\n      <th>type</th>\n      <th>Card Type</th>\n      <th>Exp Type</th>\n      <th>oldbalanceOrg</th>\n      <th>oldbalanceDest</th>\n      <th>Date</th>\n      <th>newbalanceOrg</th>\n      <th>newbalanceDest</th>\n    </tr>\n  </thead>\n  <tbody>\n    <tr>\n      <th>0</th>\n      <td>15784</td>\n      <td>15885</td>\n      <td>C1827331929</td>\n      <td>3</td>\n      <td>F</td>\n      <td>M348934600</td>\n      <td>3.88</td>\n      <td>0</td>\n      <td>Pune</td>\n      <td>CASH_IN</td>\n      <td>Signature</td>\n      <td>Grocery</td>\n      <td>35718.00</td>\n      <td>1346406.96</td>\n      <td>29-May-12</td>\n      <td>35714.12</td>\n      <td>1346410.84</td>\n    </tr>\n    <tr>\n      <th>1</th>\n      <td>6864</td>\n      <td>6911</td>\n      <td>C1275518867</td>\n      <td>5</td>\n      <td>F</td>\n      <td>M209847108</td>\n      <td>370.79</td>\n      <td>1</td>\n      <td>Srinagar</td>\n      <td>CASH_OUT</td>\n      <td>Silver</td>\n      <td>Grocery</td>\n      <td>37870.00</td>\n      <td>4997.62</td>\n      <td>27-Sep-12</td>\n      <td>37499.21</td>\n      <td>5368.41</td>\n    </tr>\n    <tr>\n      <th>2</th>\n      <td>4854</td>\n      <td>4891</td>\n      <td>C1434797923</td>\n      <td>3</td>\n      <td>M</td>\n      <td>M1198415165</td>\n      <td>96.63</td>\n      <td>1</td>\n      <td>Bengaluru</td>\n      <td>CASH_IN</td>\n      <td>Silver</td>\n      <td>Grocery</td>\n      <td>10500000.00</td>\n      <td>283806.11</td>\n      <td>17-Nov-13</td>\n      <td>10499903.37</td>\n      <td>283902.74</td>\n    </tr>\n    <tr>\n      <th>3</th>\n      <td>17714</td>\n      <td>17829</td>\n      <td>C1439880421</td>\n      <td>4</td>\n      <td>F</td>\n      <td>M1823072687</td>\n      <td>17.22</td>\n      <td>0</td>\n      <td>Panchkula</td>\n      <td>CASH_OUT</td>\n      <td>Signature</td>\n      <td>Grocery</td>\n      <td>68778.00</td>\n      <td>2438979.23</td>\n      <td>04-Mar-13</td>\n      <td>68760.78</td>\n      <td>2438996.45</td>\n    </tr>\n    <tr>\n      <th>4</th>\n      <td>48809</td>\n      <td>49108</td>\n      <td>C688652575</td>\n      <td>2</td>\n      <td>M</td>\n      <td>M348934600</td>\n      <td>83.91</td>\n      <td>0</td>\n      <td>Hyderabad</td>\n      <td>PAYMENT</td>\n      <td>Signature</td>\n      <td>Grocery</td>\n      <td>67768.63</td>\n      <td>7227334.26</td>\n      <td>23-Sep-13</td>\n      <td>67684.72</td>\n      <td>7227418.17</td>\n    </tr>\n  </tbody>\n</table>\n</div>"
          },
          "metadata": {}
        }
      ],
      "execution_count": 158
    },
    {
      "cell_type": "code",
      "source": "df[\"Exp Type\"].value_counts()",
      "metadata": {
        "trusted": true
      },
      "outputs": [
        {
          "execution_count": 159,
          "output_type": "execute_result",
          "data": {
            "text/plain": "Bills            20576\nTravel           15801\nGrocery           9889\nFood              7048\nEntertainment     2159\nFuel              1364\nName: Exp Type, dtype: int64"
          },
          "metadata": {}
        }
      ],
      "execution_count": 159
    },
    {
      "cell_type": "code",
      "source": "df.shape ",
      "metadata": {
        "trusted": true
      },
      "outputs": [
        {
          "execution_count": 136,
          "output_type": "execute_result",
          "data": {
            "text/plain": "(56839, 16)"
          },
          "metadata": {}
        }
      ],
      "execution_count": 136
    },
    {
      "cell_type": "code",
      "source": "df[\"Card Type\"].value_counts()",
      "metadata": {
        "trusted": true
      },
      "outputs": [
        {
          "execution_count": 161,
          "output_type": "execute_result",
          "data": {
            "text/plain": "Gold         14804\nSilver       14243\nSignature    14217\nPlatinum     13573\nName: Card Type, dtype: int64"
          },
          "metadata": {}
        }
      ],
      "execution_count": 161
    },
    {
      "cell_type": "code",
      "source": "total_record=56839",
      "metadata": {
        "trusted": true
      },
      "outputs": [],
      "execution_count": 138
    },
    {
      "cell_type": "code",
      "source": "import pandas as pd\nimport numpy as np\n\n# Create a DataFrame with the provided data\ndata = {\n    'Exp Type': ['Grocery', 'Entertainment', 'Fuel', 'Food', 'Bills', 'Travel'],\n    'Records': [10403, 10232, 11570, 11946, 11072, 1616]\n}\n\ndf = pd.DataFrame(data)\n\n# Calculate the total number of records\ntotal_records = df['Records'].sum()\n\n# Calculate the desired number of records for each category\ndesired_records = {\n    'Bills': int(total_records * 0.362),\n    'Grocery': int(total_records * 0.174),\n    'Food': int(total_records * 0.124),\n    'Travel': int(total_records * 0.278),\n    'Fuel': int(total_records * 0.024),\n    'Entertainment': int(total_records * 0.038)\n}\n\n# Change the number of records for each category\nfor index, row in df.iterrows():\n    exp_type = row['Exp Type']\n    df.at[index, 'Records'] = desired_records[exp_type]\n\n# Normalize the records to ensure they add up to the total\ntotal_normalized = df['Records'].sum()\nfactor = total_records / total_normalized\n\nfor index, row in df.iterrows():\n    df.at[index, 'Records'] = int(row['Records'] * factor)\n\n# Shuffle the DataFrame to randomly distribute the records\ndf = df.sample(frac=1).reset_index(drop=True)\n\n# Load the original data\noriginal_data = pd.read_csv(\"ak.csv\")\n\n# Create a new DataFrame with modified 'Exp Type' column\nmodified_data = pd.DataFrame(columns=original_data.columns)\n\nfor index, row in df.iterrows():\n    exp_type = row['Exp Type']\n    records = row['Records']\n    modified_data = pd.concat([modified_data, original_data[original_data['Exp Type'] == exp_type].sample(n=records, replace=True)])\n\n# Save the modified data to a new CSV file\n\n",
      "metadata": {
        "trusted": true
      },
      "outputs": [],
      "execution_count": 139
    },
    {
      "cell_type": "code",
      "source": "df=modified_data",
      "metadata": {
        "trusted": true
      },
      "outputs": [],
      "execution_count": 141
    },
    {
      "cell_type": "code",
      "source": "df.head()",
      "metadata": {
        "trusted": true
      },
      "outputs": [
        {
          "execution_count": 142,
          "output_type": "execute_result",
          "data": {
            "text/plain": "      Unnamed: 0     customer age gender     merchant  amount fraud  \\\n15784      15885  C1827331929   3      F   M348934600    3.88     0   \n6864        6911  C1275518867   5      F   M209847108  370.79     1   \n4854        4891  C1434797923   3      M  M1198415165   96.63     1   \n17714      17829  C1439880421   4      F  M1823072687   17.22     0   \n48809      49108   C688652575   2      M   M348934600   83.91     0   \n\n            City      type  Card Type Exp Type  oldbalanceOrg  oldbalanceDest  \\\n15784       Pune   CASH_IN  Signature  Grocery       35718.00      1346406.96   \n6864    Srinagar  CASH_OUT     Silver  Grocery       37870.00         4997.62   \n4854   Bengaluru   CASH_IN     Silver  Grocery    10500000.00       283806.11   \n17714  Panchkula  CASH_OUT  Signature  Grocery       68778.00      2438979.23   \n48809  Hyderabad   PAYMENT  Signature  Grocery       67768.63      7227334.26   \n\n            Date  newbalanceOrg  newbalanceDest  \n15784  29-May-12       35714.12      1346410.84  \n6864   27-Sep-12       37499.21         5368.41  \n4854   17-Nov-13    10499903.37       283902.74  \n17714  04-Mar-13       68760.78      2438996.45  \n48809  23-Sep-13       67684.72      7227418.17  ",
            "text/html": "<div>\n<style scoped>\n    .dataframe tbody tr th:only-of-type {\n        vertical-align: middle;\n    }\n\n    .dataframe tbody tr th {\n        vertical-align: top;\n    }\n\n    .dataframe thead th {\n        text-align: right;\n    }\n</style>\n<table border=\"1\" class=\"dataframe\">\n  <thead>\n    <tr style=\"text-align: right;\">\n      <th></th>\n      <th>Unnamed: 0</th>\n      <th>customer</th>\n      <th>age</th>\n      <th>gender</th>\n      <th>merchant</th>\n      <th>amount</th>\n      <th>fraud</th>\n      <th>City</th>\n      <th>type</th>\n      <th>Card Type</th>\n      <th>Exp Type</th>\n      <th>oldbalanceOrg</th>\n      <th>oldbalanceDest</th>\n      <th>Date</th>\n      <th>newbalanceOrg</th>\n      <th>newbalanceDest</th>\n    </tr>\n  </thead>\n  <tbody>\n    <tr>\n      <th>15784</th>\n      <td>15885</td>\n      <td>C1827331929</td>\n      <td>3</td>\n      <td>F</td>\n      <td>M348934600</td>\n      <td>3.88</td>\n      <td>0</td>\n      <td>Pune</td>\n      <td>CASH_IN</td>\n      <td>Signature</td>\n      <td>Grocery</td>\n      <td>35718.00</td>\n      <td>1346406.96</td>\n      <td>29-May-12</td>\n      <td>35714.12</td>\n      <td>1346410.84</td>\n    </tr>\n    <tr>\n      <th>6864</th>\n      <td>6911</td>\n      <td>C1275518867</td>\n      <td>5</td>\n      <td>F</td>\n      <td>M209847108</td>\n      <td>370.79</td>\n      <td>1</td>\n      <td>Srinagar</td>\n      <td>CASH_OUT</td>\n      <td>Silver</td>\n      <td>Grocery</td>\n      <td>37870.00</td>\n      <td>4997.62</td>\n      <td>27-Sep-12</td>\n      <td>37499.21</td>\n      <td>5368.41</td>\n    </tr>\n    <tr>\n      <th>4854</th>\n      <td>4891</td>\n      <td>C1434797923</td>\n      <td>3</td>\n      <td>M</td>\n      <td>M1198415165</td>\n      <td>96.63</td>\n      <td>1</td>\n      <td>Bengaluru</td>\n      <td>CASH_IN</td>\n      <td>Silver</td>\n      <td>Grocery</td>\n      <td>10500000.00</td>\n      <td>283806.11</td>\n      <td>17-Nov-13</td>\n      <td>10499903.37</td>\n      <td>283902.74</td>\n    </tr>\n    <tr>\n      <th>17714</th>\n      <td>17829</td>\n      <td>C1439880421</td>\n      <td>4</td>\n      <td>F</td>\n      <td>M1823072687</td>\n      <td>17.22</td>\n      <td>0</td>\n      <td>Panchkula</td>\n      <td>CASH_OUT</td>\n      <td>Signature</td>\n      <td>Grocery</td>\n      <td>68778.00</td>\n      <td>2438979.23</td>\n      <td>04-Mar-13</td>\n      <td>68760.78</td>\n      <td>2438996.45</td>\n    </tr>\n    <tr>\n      <th>48809</th>\n      <td>49108</td>\n      <td>C688652575</td>\n      <td>2</td>\n      <td>M</td>\n      <td>M348934600</td>\n      <td>83.91</td>\n      <td>0</td>\n      <td>Hyderabad</td>\n      <td>PAYMENT</td>\n      <td>Signature</td>\n      <td>Grocery</td>\n      <td>67768.63</td>\n      <td>7227334.26</td>\n      <td>23-Sep-13</td>\n      <td>67684.72</td>\n      <td>7227418.17</td>\n    </tr>\n  </tbody>\n</table>\n</div>"
          },
          "metadata": {}
        }
      ],
      "execution_count": 142
    },
    {
      "cell_type": "code",
      "source": "df[\"Exp Type\"].value_counts()\ndf.to_csv(\"akay.csv\")",
      "metadata": {
        "trusted": true
      },
      "outputs": [],
      "execution_count": 146
    },
    {
      "cell_type": "code",
      "source": "df[\"Card Type\"].value_counts()",
      "metadata": {
        "trusted": true
      },
      "outputs": [
        {
          "execution_count": 163,
          "output_type": "execute_result",
          "data": {
            "text/plain": "Gold         14804\nSilver       14243\nSignature    14217\nPlatinum     13573\nName: Card Type, dtype: int64"
          },
          "metadata": {}
        }
      ],
      "execution_count": 163
    },
    {
      "cell_type": "code",
      "source": "\n# Create a DataFrame with the provided data for 'Card Type'\ncard_data = {\n    'Card Type': ['Gold', 'Silver', 'Signature', 'Platinum'],\n    'Records': [14804, 14243, 14217, 13573]\n}\n\ndf_card = pd.DataFrame(card_data)\n\n# Calculate the total number of records for 'Card Type'\ntotal_records_card = df_card['Records'].sum()\n\n# Calculate the desired number of records for each 'Card Type' category\ndesired_records_card = {\n    'Platinum': int(total_records_card * 0.167),\n    'Signature': int(total_records_card * 0.114),\n    'Silver': int(total_records_card * 0.437),\n    'Gold': int(total_records_card * 0.282)\n}\n\n# Change the number of records for each 'Card Type' category\nfor index, row in df_card.iterrows():\n    card_type = row['Card Type']\n    df_card.at[index, 'Records'] = desired_records_card[card_type]\n\n# Normalize the records for 'Card Type' to ensure they add up to the total\ntotal_normalized_card = df_card['Records'].sum()\nfactor_card = total_records_card / total_normalized_card\n\nfor index, row in df_card.iterrows():\n    df_card.at[index, 'Records'] = int(row['Records'] * factor_card)\n\n# Shuffle the DataFrame for 'Card Type' to randomly distribute the records\ndf_card = df_card.sample(frac=1).reset_index(drop=True)\n\n# Load the original data\noriginal_data = pd.read_csv(\"akay.csv\")\n\n# Create a new DataFrame with modified 'Card Type' column\nmodified_data = pd.DataFrame(columns=original_data.columns)\n\nfor index, row in df_card.iterrows():\n    card_type = row['Card Type']\n    records = row['Records']\n    modified_data = pd.concat([modified_data, original_data[original_data['Card Type'] == card_type].sample(n=records, replace=True)])\n\n# Save the modified data to a new CSV file\n\n",
      "metadata": {
        "trusted": true
      },
      "outputs": [],
      "execution_count": 164
    },
    {
      "cell_type": "code",
      "source": "df=modified_data",
      "metadata": {
        "trusted": true
      },
      "outputs": [],
      "execution_count": 165
    },
    {
      "cell_type": "code",
      "source": "df['Card Type'].value_counts()\n",
      "metadata": {
        "trusted": true
      },
      "outputs": [
        {
          "execution_count": 166,
          "output_type": "execute_result",
          "data": {
            "text/plain": "Silver       24837\nGold         16028\nPlatinum      9491\nSignature     6479\nName: Card Type, dtype: int64"
          },
          "metadata": {}
        }
      ],
      "execution_count": 166
    },
    {
      "cell_type": "code",
      "source": "df.head()",
      "metadata": {
        "trusted": true
      },
      "outputs": [
        {
          "execution_count": 167,
          "output_type": "execute_result",
          "data": {
            "text/plain": "      Unnamed: 0.1 Unnamed: 0     customer age gender    merchant  amount  \\\n10029        50708      51016   C546697817   5      F  M348934600   25.31   \n18879        15627      15728   C465897830   4      M  M480139044  263.24   \n19118        51316      51633  C2125787399   4      F  M349281107   59.77   \n15997        37973      38204  C2118328869   2      F  M933210764  278.73   \n14920        43551      43825  C1837200499   4      M  M980657600  958.53   \n\n      fraud        City      type  Card Type Exp Type  oldbalanceOrg  \\\n10029     0       Delhi  CASH_OUT  Signature     Food        47169.0   \n18879     1       Delhi   PAYMENT  Signature   Travel        20143.0   \n19118     0      Jaipur  CASH_OUT  Signature   Travel        33819.0   \n15997     1     Lucknow  CASH_OUT  Signature     Food        14309.0   \n14920     1  Pandharpur  CASH_OUT  Signature     Food        54794.0   \n\n       oldbalanceDest       Date  newbalanceOrg  newbalanceDest  \n10029       205879.66  05-Nov-11       47143.69       205904.97  \n18879      2469789.14  21-Oct-11       19879.76      2470052.38  \n19118       414358.05  25-Feb-13       33759.23       414417.82  \n15997       101846.02  12-Mar-14       14030.27       102124.75  \n14920        35507.81  16-Dec-12       53835.47        36466.34  ",
            "text/html": "<div>\n<style scoped>\n    .dataframe tbody tr th:only-of-type {\n        vertical-align: middle;\n    }\n\n    .dataframe tbody tr th {\n        vertical-align: top;\n    }\n\n    .dataframe thead th {\n        text-align: right;\n    }\n</style>\n<table border=\"1\" class=\"dataframe\">\n  <thead>\n    <tr style=\"text-align: right;\">\n      <th></th>\n      <th>Unnamed: 0.1</th>\n      <th>Unnamed: 0</th>\n      <th>customer</th>\n      <th>age</th>\n      <th>gender</th>\n      <th>merchant</th>\n      <th>amount</th>\n      <th>fraud</th>\n      <th>City</th>\n      <th>type</th>\n      <th>Card Type</th>\n      <th>Exp Type</th>\n      <th>oldbalanceOrg</th>\n      <th>oldbalanceDest</th>\n      <th>Date</th>\n      <th>newbalanceOrg</th>\n      <th>newbalanceDest</th>\n    </tr>\n  </thead>\n  <tbody>\n    <tr>\n      <th>10029</th>\n      <td>50708</td>\n      <td>51016</td>\n      <td>C546697817</td>\n      <td>5</td>\n      <td>F</td>\n      <td>M348934600</td>\n      <td>25.31</td>\n      <td>0</td>\n      <td>Delhi</td>\n      <td>CASH_OUT</td>\n      <td>Signature</td>\n      <td>Food</td>\n      <td>47169.0</td>\n      <td>205879.66</td>\n      <td>05-Nov-11</td>\n      <td>47143.69</td>\n      <td>205904.97</td>\n    </tr>\n    <tr>\n      <th>18879</th>\n      <td>15627</td>\n      <td>15728</td>\n      <td>C465897830</td>\n      <td>4</td>\n      <td>M</td>\n      <td>M480139044</td>\n      <td>263.24</td>\n      <td>1</td>\n      <td>Delhi</td>\n      <td>PAYMENT</td>\n      <td>Signature</td>\n      <td>Travel</td>\n      <td>20143.0</td>\n      <td>2469789.14</td>\n      <td>21-Oct-11</td>\n      <td>19879.76</td>\n      <td>2470052.38</td>\n    </tr>\n    <tr>\n      <th>19118</th>\n      <td>51316</td>\n      <td>51633</td>\n      <td>C2125787399</td>\n      <td>4</td>\n      <td>F</td>\n      <td>M349281107</td>\n      <td>59.77</td>\n      <td>0</td>\n      <td>Jaipur</td>\n      <td>CASH_OUT</td>\n      <td>Signature</td>\n      <td>Travel</td>\n      <td>33819.0</td>\n      <td>414358.05</td>\n      <td>25-Feb-13</td>\n      <td>33759.23</td>\n      <td>414417.82</td>\n    </tr>\n    <tr>\n      <th>15997</th>\n      <td>37973</td>\n      <td>38204</td>\n      <td>C2118328869</td>\n      <td>2</td>\n      <td>F</td>\n      <td>M933210764</td>\n      <td>278.73</td>\n      <td>1</td>\n      <td>Lucknow</td>\n      <td>CASH_OUT</td>\n      <td>Signature</td>\n      <td>Food</td>\n      <td>14309.0</td>\n      <td>101846.02</td>\n      <td>12-Mar-14</td>\n      <td>14030.27</td>\n      <td>102124.75</td>\n    </tr>\n    <tr>\n      <th>14920</th>\n      <td>43551</td>\n      <td>43825</td>\n      <td>C1837200499</td>\n      <td>4</td>\n      <td>M</td>\n      <td>M980657600</td>\n      <td>958.53</td>\n      <td>1</td>\n      <td>Pandharpur</td>\n      <td>CASH_OUT</td>\n      <td>Signature</td>\n      <td>Food</td>\n      <td>54794.0</td>\n      <td>35507.81</td>\n      <td>16-Dec-12</td>\n      <td>53835.47</td>\n      <td>36466.34</td>\n    </tr>\n  </tbody>\n</table>\n</div>"
          },
          "metadata": {}
        }
      ],
      "execution_count": 167
    },
    {
      "cell_type": "code",
      "source": "df['type'].value_counts()",
      "metadata": {
        "trusted": true
      },
      "outputs": [
        {
          "execution_count": 169,
          "output_type": "execute_result",
          "data": {
            "text/plain": "CASH_OUT    22336\nCASH_IN     14159\nPAYMENT     14134\nTRANSFER     5806\nDEBIT         400\nName: type, dtype: int64"
          },
          "metadata": {}
        }
      ],
      "execution_count": 169
    },
    {
      "cell_type": "code",
      "source": "df[\"Card Type\"].value_counts()",
      "metadata": {
        "trusted": true
      },
      "outputs": [
        {
          "execution_count": 99,
          "output_type": "execute_result",
          "data": {
            "text/plain": "Silver       24837\nGold         15573\nSignature     9264\nPlatinum      6479\nMass           682\nName: Card Type, dtype: int64"
          },
          "metadata": {}
        }
      ],
      "execution_count": 99
    },
    {
      "cell_type": "code",
      "source": "df.drop(columns=['Unnamed: 0.1'], inplace=True)",
      "metadata": {
        "trusted": true
      },
      "outputs": [],
      "execution_count": 155
    },
    {
      "cell_type": "code",
      "source": "df.head()\ndf.to_csv(\"ap.csv\")",
      "metadata": {
        "trusted": true
      },
      "outputs": [],
      "execution_count": 172
    },
    {
      "cell_type": "code",
      "source": "data=df",
      "metadata": {
        "trusted": true
      },
      "outputs": [],
      "execution_count": 102
    },
    {
      "cell_type": "code",
      "source": "data.drop(columns=[columns[0]],inplace=True)",
      "metadata": {
        "trusted": true
      },
      "outputs": [
        {
          "ename": "<class 'NameError'>",
          "evalue": "name 'columns' is not defined",
          "traceback": [
            "\u001b[0;31m---------------------------------------------------------------------------\u001b[0m",
            "\u001b[0;31mNameError\u001b[0m                                 Traceback (most recent call last)",
            "Cell \u001b[0;32mIn[103], line 1\u001b[0m\n\u001b[0;32m----> 1\u001b[0m data\u001b[38;5;241m.\u001b[39mdrop(columns\u001b[38;5;241m=\u001b[39m[\u001b[43mcolumns\u001b[49m[\u001b[38;5;241m0\u001b[39m]],inplace\u001b[38;5;241m=\u001b[39m\u001b[38;5;28;01mTrue\u001b[39;00m)\n",
            "\u001b[0;31mNameError\u001b[0m: name 'columns' is not defined"
          ],
          "output_type": "error"
        }
      ],
      "execution_count": 103
    },
    {
      "cell_type": "code",
      "source": "df.to_csv(\"mohitl.csv\")",
      "metadata": {
        "trusted": true
      },
      "outputs": [],
      "execution_count": 105
    },
    {
      "cell_type": "code",
      "source": "df.drop(columns=[df.columns[0]], inplace=True)",
      "metadata": {
        "trusted": true
      },
      "outputs": [],
      "execution_count": 51
    },
    {
      "cell_type": "code",
      "source": "df.head()",
      "metadata": {
        "trusted": true
      },
      "outputs": [
        {
          "execution_count": 52,
          "output_type": "execute_result",
          "data": {
            "text/plain": "      age gender     merchant   amount  fraud       City      type Card Type  \\\n48130   2      F   M732195782  7665.56    1.0  Bengaluru   PAYMENT    Silver   \n52780   3      M  M1823072687     12.2    0.0      Delhi   CASH_IN    Silver   \n50849   2      F   M348934600     6.92    0.0       Pune  CASH_OUT    Silver   \n48853   2      F  M1823072687     1.02    0.0    Koratla   CASH_IN    Silver   \n31914   2      M  M1823072687    29.24    0.0      Delhi   CASH_IN    Silver   \n\n            Exp Type  oldbalanceOrg  oldbalanceDest       Date  newbalanceOrg  \\\n48130  Entertainment       326905.0      1958851.25  22-Nov-12      319239.44   \n52780        Grocery        11106.0       599342.28  18-Oct-11       11093.80   \n50849           Food        74610.0      2008011.74  07-Apr-12       74603.08   \n48853  Entertainment          379.0        32114.18  27-May-12         377.98   \n31914           Fuel         7757.0      1091280.93  12-Mar-13        7727.76   \n\n       newbalanceDest  \n48130      1966516.81  \n52780       599354.48  \n50849      2008018.66  \n48853        32115.20  \n31914      1091310.17  ",
            "text/html": "<div>\n<style scoped>\n    .dataframe tbody tr th:only-of-type {\n        vertical-align: middle;\n    }\n\n    .dataframe tbody tr th {\n        vertical-align: top;\n    }\n\n    .dataframe thead th {\n        text-align: right;\n    }\n</style>\n<table border=\"1\" class=\"dataframe\">\n  <thead>\n    <tr style=\"text-align: right;\">\n      <th></th>\n      <th>age</th>\n      <th>gender</th>\n      <th>merchant</th>\n      <th>amount</th>\n      <th>fraud</th>\n      <th>City</th>\n      <th>type</th>\n      <th>Card Type</th>\n      <th>Exp Type</th>\n      <th>oldbalanceOrg</th>\n      <th>oldbalanceDest</th>\n      <th>Date</th>\n      <th>newbalanceOrg</th>\n      <th>newbalanceDest</th>\n    </tr>\n  </thead>\n  <tbody>\n    <tr>\n      <th>48130</th>\n      <td>2</td>\n      <td>F</td>\n      <td>M732195782</td>\n      <td>7665.56</td>\n      <td>1.0</td>\n      <td>Bengaluru</td>\n      <td>PAYMENT</td>\n      <td>Silver</td>\n      <td>Entertainment</td>\n      <td>326905.0</td>\n      <td>1958851.25</td>\n      <td>22-Nov-12</td>\n      <td>319239.44</td>\n      <td>1966516.81</td>\n    </tr>\n    <tr>\n      <th>52780</th>\n      <td>3</td>\n      <td>M</td>\n      <td>M1823072687</td>\n      <td>12.2</td>\n      <td>0.0</td>\n      <td>Delhi</td>\n      <td>CASH_IN</td>\n      <td>Silver</td>\n      <td>Grocery</td>\n      <td>11106.0</td>\n      <td>599342.28</td>\n      <td>18-Oct-11</td>\n      <td>11093.80</td>\n      <td>599354.48</td>\n    </tr>\n    <tr>\n      <th>50849</th>\n      <td>2</td>\n      <td>F</td>\n      <td>M348934600</td>\n      <td>6.92</td>\n      <td>0.0</td>\n      <td>Pune</td>\n      <td>CASH_OUT</td>\n      <td>Silver</td>\n      <td>Food</td>\n      <td>74610.0</td>\n      <td>2008011.74</td>\n      <td>07-Apr-12</td>\n      <td>74603.08</td>\n      <td>2008018.66</td>\n    </tr>\n    <tr>\n      <th>48853</th>\n      <td>2</td>\n      <td>F</td>\n      <td>M1823072687</td>\n      <td>1.02</td>\n      <td>0.0</td>\n      <td>Koratla</td>\n      <td>CASH_IN</td>\n      <td>Silver</td>\n      <td>Entertainment</td>\n      <td>379.0</td>\n      <td>32114.18</td>\n      <td>27-May-12</td>\n      <td>377.98</td>\n      <td>32115.20</td>\n    </tr>\n    <tr>\n      <th>31914</th>\n      <td>2</td>\n      <td>M</td>\n      <td>M1823072687</td>\n      <td>29.24</td>\n      <td>0.0</td>\n      <td>Delhi</td>\n      <td>CASH_IN</td>\n      <td>Silver</td>\n      <td>Fuel</td>\n      <td>7757.0</td>\n      <td>1091280.93</td>\n      <td>12-Mar-13</td>\n      <td>7727.76</td>\n      <td>1091310.17</td>\n    </tr>\n  </tbody>\n</table>\n</div>"
          },
          "metadata": {}
        }
      ],
      "execution_count": 52
    },
    {
      "cell_type": "code",
      "source": "data.head()",
      "metadata": {
        "trusted": true
      },
      "outputs": [
        {
          "execution_count": 53,
          "output_type": "execute_result",
          "data": {
            "text/plain": "      age gender     merchant   amount  fraud       City      type Card Type  \\\n48130   2      F   M732195782  7665.56    1.0  Bengaluru   PAYMENT    Silver   \n52780   3      M  M1823072687     12.2    0.0      Delhi   CASH_IN    Silver   \n50849   2      F   M348934600     6.92    0.0       Pune  CASH_OUT    Silver   \n48853   2      F  M1823072687     1.02    0.0    Koratla   CASH_IN    Silver   \n31914   2      M  M1823072687    29.24    0.0      Delhi   CASH_IN    Silver   \n\n            Exp Type  oldbalanceOrg  oldbalanceDest       Date  newbalanceOrg  \\\n48130  Entertainment       326905.0      1958851.25  22-Nov-12      319239.44   \n52780        Grocery        11106.0       599342.28  18-Oct-11       11093.80   \n50849           Food        74610.0      2008011.74  07-Apr-12       74603.08   \n48853  Entertainment          379.0        32114.18  27-May-12         377.98   \n31914           Fuel         7757.0      1091280.93  12-Mar-13        7727.76   \n\n       newbalanceDest  \n48130      1966516.81  \n52780       599354.48  \n50849      2008018.66  \n48853        32115.20  \n31914      1091310.17  ",
            "text/html": "<div>\n<style scoped>\n    .dataframe tbody tr th:only-of-type {\n        vertical-align: middle;\n    }\n\n    .dataframe tbody tr th {\n        vertical-align: top;\n    }\n\n    .dataframe thead th {\n        text-align: right;\n    }\n</style>\n<table border=\"1\" class=\"dataframe\">\n  <thead>\n    <tr style=\"text-align: right;\">\n      <th></th>\n      <th>age</th>\n      <th>gender</th>\n      <th>merchant</th>\n      <th>amount</th>\n      <th>fraud</th>\n      <th>City</th>\n      <th>type</th>\n      <th>Card Type</th>\n      <th>Exp Type</th>\n      <th>oldbalanceOrg</th>\n      <th>oldbalanceDest</th>\n      <th>Date</th>\n      <th>newbalanceOrg</th>\n      <th>newbalanceDest</th>\n    </tr>\n  </thead>\n  <tbody>\n    <tr>\n      <th>48130</th>\n      <td>2</td>\n      <td>F</td>\n      <td>M732195782</td>\n      <td>7665.56</td>\n      <td>1.0</td>\n      <td>Bengaluru</td>\n      <td>PAYMENT</td>\n      <td>Silver</td>\n      <td>Entertainment</td>\n      <td>326905.0</td>\n      <td>1958851.25</td>\n      <td>22-Nov-12</td>\n      <td>319239.44</td>\n      <td>1966516.81</td>\n    </tr>\n    <tr>\n      <th>52780</th>\n      <td>3</td>\n      <td>M</td>\n      <td>M1823072687</td>\n      <td>12.2</td>\n      <td>0.0</td>\n      <td>Delhi</td>\n      <td>CASH_IN</td>\n      <td>Silver</td>\n      <td>Grocery</td>\n      <td>11106.0</td>\n      <td>599342.28</td>\n      <td>18-Oct-11</td>\n      <td>11093.80</td>\n      <td>599354.48</td>\n    </tr>\n    <tr>\n      <th>50849</th>\n      <td>2</td>\n      <td>F</td>\n      <td>M348934600</td>\n      <td>6.92</td>\n      <td>0.0</td>\n      <td>Pune</td>\n      <td>CASH_OUT</td>\n      <td>Silver</td>\n      <td>Food</td>\n      <td>74610.0</td>\n      <td>2008011.74</td>\n      <td>07-Apr-12</td>\n      <td>74603.08</td>\n      <td>2008018.66</td>\n    </tr>\n    <tr>\n      <th>48853</th>\n      <td>2</td>\n      <td>F</td>\n      <td>M1823072687</td>\n      <td>1.02</td>\n      <td>0.0</td>\n      <td>Koratla</td>\n      <td>CASH_IN</td>\n      <td>Silver</td>\n      <td>Entertainment</td>\n      <td>379.0</td>\n      <td>32114.18</td>\n      <td>27-May-12</td>\n      <td>377.98</td>\n      <td>32115.20</td>\n    </tr>\n    <tr>\n      <th>31914</th>\n      <td>2</td>\n      <td>M</td>\n      <td>M1823072687</td>\n      <td>29.24</td>\n      <td>0.0</td>\n      <td>Delhi</td>\n      <td>CASH_IN</td>\n      <td>Silver</td>\n      <td>Fuel</td>\n      <td>7757.0</td>\n      <td>1091280.93</td>\n      <td>12-Mar-13</td>\n      <td>7727.76</td>\n      <td>1091310.17</td>\n    </tr>\n  </tbody>\n</table>\n</div>"
          },
          "metadata": {}
        }
      ],
      "execution_count": 53
    },
    {
      "cell_type": "code",
      "source": "data['Exp Type'].value_counts()",
      "metadata": {
        "trusted": true
      },
      "outputs": [
        {
          "execution_count": 55,
          "output_type": "execute_result",
          "data": {
            "text/plain": "Food             12375\nFuel             11135\nBills            11015\nGrocery          10549\nEntertainment    10082\nTravel            1679\nName: Exp Type, dtype: int64"
          },
          "metadata": {}
        }
      ],
      "execution_count": 55
    },
    {
      "cell_type": "code",
      "source": "df['Exp Type'].value_counts()",
      "metadata": {
        "trusted": true
      },
      "outputs": [
        {
          "execution_count": 56,
          "output_type": "execute_result",
          "data": {
            "text/plain": "Food             12375\nFuel             11135\nBills            11015\nGrocery          10549\nEntertainment    10082\nTravel            1679\nName: Exp Type, dtype: int64"
          },
          "metadata": {}
        }
      ],
      "execution_count": 56
    },
    {
      "cell_type": "code",
      "source": "",
      "metadata": {
        "trusted": true
      },
      "outputs": [],
      "execution_count": null
    },
    {
      "cell_type": "code",
      "source": "",
      "metadata": {
        "trusted": true
      },
      "outputs": [],
      "execution_count": null
    },
    {
      "cell_type": "code",
      "source": "",
      "metadata": {
        "trusted": true
      },
      "outputs": [],
      "execution_count": null
    },
    {
      "cell_type": "code",
      "source": "",
      "metadata": {
        "trusted": true
      },
      "outputs": [],
      "execution_count": null
    },
    {
      "cell_type": "code",
      "source": "",
      "metadata": {
        "trusted": true
      },
      "outputs": [],
      "execution_count": null
    },
    {
      "cell_type": "code",
      "source": "",
      "metadata": {
        "trusted": true
      },
      "outputs": [],
      "execution_count": null
    },
    {
      "cell_type": "code",
      "source": "",
      "metadata": {
        "trusted": true
      },
      "outputs": [],
      "execution_count": null
    }
  ]
}